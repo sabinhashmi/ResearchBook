{
 "cells": [
  {
   "cell_type": "code",
   "execution_count": 1,
   "metadata": {},
   "outputs": [],
   "source": [
    "import os\n",
    "import pandas as pd\n",
    "from Functions.data_builder import dataBuilder\n",
    "\n",
    "from tqdm import tqdm"
   ]
  },
  {
   "cell_type": "code",
   "execution_count": 2,
   "metadata": {},
   "outputs": [
    {
     "name": "stdout",
     "output_type": "stream",
     "text": [
      "['293532', '307328', '307326', '307327', '293533', '308612', '306788', '306327', '309395', '308019', '308213', '308021', '307299', '306328', '309394', '306787', '297288', '306789', '306326', '308212', '303248', '310464', '310463', '303246', '308609', '309380', '309980', '303247', '310462', '310465', '302935', '309381', '298593', '307302', '298594', '298595', '307303', '293528', '307324', '293530', '308022', '308210', '308611', '308415', '308412', '308211', '308023', '308413', '308414', '308610', '306325', '306790', '309979', '309379', '309977', '303245', '309382', '309978', '307559', '307557', '307301', '307556', '298596', '307558']\n"
     ]
    }
   ],
   "source": [
    "# Specify the path to the folder\n",
    "folder_path = '../UTCOND/NZS_data/'\n",
    "\n",
    "# Get all directories in the folder\n",
    "directories = [d for d in os.listdir(folder_path) if os.path.isdir(os.path.join(folder_path, d))]\n",
    "\n",
    "# Print the directory names\n",
    "print(directories)\n"
   ]
  },
  {
   "cell_type": "code",
   "execution_count": 3,
   "metadata": {},
   "outputs": [],
   "source": [
    "run_numbers = ['293532', '307328', '307326', '307327', '293533', '308612', '306788', '306327', '309395', '308019', '308213', '308021', '307299', '306328', '309394', '306787', '297288', '306789', '306326', '308212', '303248', '310464', '310463', '303246', '308609', '309380', '309980', '303247', '310462', '310465', '302935', '309381', '298593', '307302', '298594', '298595', '307303', '293528', '307324', '293530', '308022', '308210', '308611', '308415', '308412', '308211', '308023', '308413', '308414', '308610', '306325', '306790', '309979', '309379', '309977', '303245', '309382', '309978', '307559', '307557', '307301', '307556', '298596', '307558']\n",
    "\n",
    "# run_numbers = ['293532', '307328']"
   ]
  },
  {
   "cell_type": "code",
   "execution_count": 4,
   "metadata": {},
   "outputs": [
    {
     "name": "stderr",
     "output_type": "stream",
     "text": [
      "100%|██████████| 64/64 [03:46<00:00,  3.54s/it]\n"
     ]
    }
   ],
   "source": [
    "full_data = []\n",
    "for run_number in tqdm(run_numbers):\n",
    "    full_data.append(dataBuilder(run_number))"
   ]
  },
  {
   "cell_type": "code",
   "execution_count": 5,
   "metadata": {},
   "outputs": [],
   "source": [
    "full_data = pd.concat(full_data)"
   ]
  },
  {
   "cell_type": "code",
   "execution_count": 6,
   "metadata": {},
   "outputs": [],
   "source": [
    "full_data.to_parquet('./Data/FullData.parquet')"
   ]
  },
  {
   "cell_type": "code",
   "execution_count": null,
   "metadata": {},
   "outputs": [],
   "source": []
  }
 ],
 "metadata": {
  "kernelspec": {
   "display_name": "box",
   "language": "python",
   "name": "python3"
  },
  "language_info": {
   "codemirror_mode": {
    "name": "ipython",
    "version": 3
   },
   "file_extension": ".py",
   "mimetype": "text/x-python",
   "name": "python",
   "nbconvert_exporter": "python",
   "pygments_lexer": "ipython3",
   "version": "3.12.7"
  }
 },
 "nbformat": 4,
 "nbformat_minor": 2
}
