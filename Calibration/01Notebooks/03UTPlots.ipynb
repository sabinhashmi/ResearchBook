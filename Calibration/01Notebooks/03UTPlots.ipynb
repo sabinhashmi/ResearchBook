{
 "cells": [
  {
   "cell_type": "code",
   "execution_count": 1,
   "metadata": {},
   "outputs": [],
   "source": [
    "from Functions.databuilder import dataBuilder\n",
    "from Functions.data_preparation_for_ut import data_preparation_for_ut\n",
    "from Functions.ut_plots import ut_plot"
   ]
  },
  {
   "cell_type": "code",
   "execution_count": 2,
   "metadata": {},
   "outputs": [],
   "source": [
    "data = dataBuilder(293528)"
   ]
  },
  {
   "cell_type": "code",
   "execution_count": 3,
   "metadata": {},
   "outputs": [
    {
     "data": {
      "text/html": [
       "<div>\n",
       "<style scoped>\n",
       "    .dataframe tbody tr th:only-of-type {\n",
       "        vertical-align: middle;\n",
       "    }\n",
       "\n",
       "    .dataframe tbody tr th {\n",
       "        vertical-align: top;\n",
       "    }\n",
       "\n",
       "    .dataframe thead th {\n",
       "        text-align: right;\n",
       "    }\n",
       "</style>\n",
       "<table border=\"1\" class=\"dataframe\">\n",
       "  <thead>\n",
       "    <tr style=\"text-align: right;\">\n",
       "      <th></th>\n",
       "      <th>ChannelID</th>\n",
       "      <th>ChipID</th>\n",
       "      <th>Sector</th>\n",
       "      <th>ChannelNumber</th>\n",
       "      <th>Signal</th>\n",
       "      <th>CMSubstracted</th>\n",
       "      <th>ChipMean</th>\n",
       "      <th>ChipSigma</th>\n",
       "      <th>Staves</th>\n",
       "      <th>Rows</th>\n",
       "      <th>PedestalValue</th>\n",
       "      <th>Sigma</th>\n",
       "      <th>STD</th>\n",
       "      <th>SensorType</th>\n",
       "      <th>RunNumber</th>\n",
       "    </tr>\n",
       "  </thead>\n",
       "  <tbody>\n",
       "    <tr>\n",
       "      <th>0</th>\n",
       "      <td>4194304</td>\n",
       "      <td>Chip0</td>\n",
       "      <td>UTaX_1CB_S4</td>\n",
       "      <td>Ch0</td>\n",
       "      <td>-0.189373</td>\n",
       "      <td>0.798439</td>\n",
       "      <td>-0.02478</td>\n",
       "      <td>0.941387</td>\n",
       "      <td>1C</td>\n",
       "      <td>S4B</td>\n",
       "      <td>6</td>\n",
       "      <td>5.83768</td>\n",
       "      <td>0.944186</td>\n",
       "      <td>A</td>\n",
       "      <td>293528</td>\n",
       "    </tr>\n",
       "    <tr>\n",
       "      <th>1</th>\n",
       "      <td>4194305</td>\n",
       "      <td>Chip0</td>\n",
       "      <td>UTaX_1CB_S4</td>\n",
       "      <td>Ch1</td>\n",
       "      <td>0.406627</td>\n",
       "      <td>0.805893</td>\n",
       "      <td>-0.02478</td>\n",
       "      <td>0.941387</td>\n",
       "      <td>1C</td>\n",
       "      <td>S4B</td>\n",
       "      <td>5</td>\n",
       "      <td>5.42943</td>\n",
       "      <td>0.923920</td>\n",
       "      <td>A</td>\n",
       "      <td>293528</td>\n",
       "    </tr>\n",
       "    <tr>\n",
       "      <th>2</th>\n",
       "      <td>4194306</td>\n",
       "      <td>Chip0</td>\n",
       "      <td>UTaX_1CB_S4</td>\n",
       "      <td>Ch2</td>\n",
       "      <td>-0.379373</td>\n",
       "      <td>0.792545</td>\n",
       "      <td>-0.02478</td>\n",
       "      <td>0.941387</td>\n",
       "      <td>1C</td>\n",
       "      <td>S4B</td>\n",
       "      <td>5</td>\n",
       "      <td>4.58818</td>\n",
       "      <td>0.902979</td>\n",
       "      <td>A</td>\n",
       "      <td>293528</td>\n",
       "    </tr>\n",
       "    <tr>\n",
       "      <th>3</th>\n",
       "      <td>4194307</td>\n",
       "      <td>Chip0</td>\n",
       "      <td>UTaX_1CB_S4</td>\n",
       "      <td>Ch3</td>\n",
       "      <td>0.218627</td>\n",
       "      <td>0.795685</td>\n",
       "      <td>-0.02478</td>\n",
       "      <td>0.941387</td>\n",
       "      <td>1C</td>\n",
       "      <td>S4B</td>\n",
       "      <td>4</td>\n",
       "      <td>4.21944</td>\n",
       "      <td>0.870896</td>\n",
       "      <td>A</td>\n",
       "      <td>293528</td>\n",
       "    </tr>\n",
       "    <tr>\n",
       "      <th>4</th>\n",
       "      <td>4194308</td>\n",
       "      <td>Chip0</td>\n",
       "      <td>UTaX_1CB_S4</td>\n",
       "      <td>Ch4</td>\n",
       "      <td>0.024627</td>\n",
       "      <td>0.768813</td>\n",
       "      <td>-0.02478</td>\n",
       "      <td>0.941387</td>\n",
       "      <td>1C</td>\n",
       "      <td>S4B</td>\n",
       "      <td>4</td>\n",
       "      <td>4.00700</td>\n",
       "      <td>0.878038</td>\n",
       "      <td>A</td>\n",
       "      <td>293528</td>\n",
       "    </tr>\n",
       "  </tbody>\n",
       "</table>\n",
       "</div>"
      ],
      "text/plain": [
       "   ChannelID ChipID       Sector ChannelNumber    Signal  CMSubstracted  \\\n",
       "0    4194304  Chip0  UTaX_1CB_S4           Ch0 -0.189373       0.798439   \n",
       "1    4194305  Chip0  UTaX_1CB_S4           Ch1  0.406627       0.805893   \n",
       "2    4194306  Chip0  UTaX_1CB_S4           Ch2 -0.379373       0.792545   \n",
       "3    4194307  Chip0  UTaX_1CB_S4           Ch3  0.218627       0.795685   \n",
       "4    4194308  Chip0  UTaX_1CB_S4           Ch4  0.024627       0.768813   \n",
       "\n",
       "   ChipMean  ChipSigma Staves Rows  PedestalValue    Sigma       STD  \\\n",
       "0  -0.02478   0.941387     1C  S4B              6  5.83768  0.944186   \n",
       "1  -0.02478   0.941387     1C  S4B              5  5.42943  0.923920   \n",
       "2  -0.02478   0.941387     1C  S4B              5  4.58818  0.902979   \n",
       "3  -0.02478   0.941387     1C  S4B              4  4.21944  0.870896   \n",
       "4  -0.02478   0.941387     1C  S4B              4  4.00700  0.878038   \n",
       "\n",
       "  SensorType  RunNumber  \n",
       "0          A     293528  \n",
       "1          A     293528  \n",
       "2          A     293528  \n",
       "3          A     293528  \n",
       "4          A     293528  "
      ]
     },
     "execution_count": 3,
     "metadata": {},
     "output_type": "execute_result"
    }
   ],
   "source": [
    "data.head()"
   ]
  },
  {
   "cell_type": "code",
   "execution_count": 4,
   "metadata": {},
   "outputs": [],
   "source": [
    "ut_data = data_preparation_for_ut(data=data)"
   ]
  },
  {
   "cell_type": "code",
   "execution_count": 5,
   "metadata": {},
   "outputs": [],
   "source": [
    "import os\n",
    "path_ = './Plots/03UTPlots'\n",
    "os.makedirs(path_,exist_ok=True)"
   ]
  },
  {
   "cell_type": "code",
   "execution_count": 6,
   "metadata": {},
   "outputs": [
    {
     "data": {
      "image/png": "[encoded data removed]",
      "text/plain": [
       "<Figure size 1000x600 with 2 Axes>"
      ]
     },
     "metadata": {},
     "output_type": "display_data"
    }
   ],
   "source": [
    "ut_plot(ut_data,show_fig=True,save_fig=True,path=path_,filename='UTMap_293528')"
   ]
  },
  {
   "cell_type": "code",
   "execution_count": null,
   "metadata": {},
   "outputs": [],
   "source": []
  },
  {
   "cell_type": "code",
   "execution_count": null,
   "metadata": {},
   "outputs": [],
   "source": []
  }
 ],
 "metadata": {
  "kernelspec": {
   "display_name": "workbox",
   "language": "python",
   "name": "python3"
  },
  "language_info": {
   "codemirror_mode": {
    "name": "ipython",
    "version": 3
   },
   "file_extension": ".py",
   "mimetype": "text/x-python",
   "name": "python",
   "nbconvert_exporter": "python",
   "pygments_lexer": "ipython3",
   "version": "3.8.20"
  }
 },
 "nbformat": 4,
 "nbformat_minor": 2
}
