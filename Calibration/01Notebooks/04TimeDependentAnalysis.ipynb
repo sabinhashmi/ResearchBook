{
 "cells": [
  {
   "cell_type": "code",
   "execution_count": 1,
   "metadata": {},
   "outputs": [],
   "source": [
    "import pandas as pd\n",
    "import seaborn as sns\n",
    "import matplotlib.pyplot as plt\n",
    "import numpy as np\n",
    "\n",
    "from Functions.databuild import dataBuilder\n",
    "\n",
    "import warnings\n",
    "warnings.filterwarnings('ignore')\n",
    "\n",
    "from sklearn.metrics import mean_squared_error\n",
    "from scipy.special import softmax\n",
    "from sklearn.preprocessing import MinMaxScaler\n",
    "\n",
    "from statsmodels.graphics.tsaplots import plot_pacf\n",
    "from statsmodels.tsa.arima.model import ARIMA\n",
    "\n",
    "import plotly.graph_objects as go\n",
    "\n",
    "from tqdm import tqdm\n",
    "\n",
    "\n",
    "color_list_=['tab:blue','tab:orange','tab:green','tab:red','tab:purple','tab:brown','tab:olive','tab:cyan']\n"
   ]
  },
  {
   "cell_type": "code",
   "execution_count": 2,
   "metadata": {},
   "outputs": [],
   "source": [
    "data = pd.read_parquet('./Data/FullData.parquet')"
   ]
  },
  {
   "cell_type": "code",
   "execution_count": 3,
   "metadata": {},
   "outputs": [
    {
     "data": {
      "text/plain": [
       "array(['293532', '307328', '307326', '307327', '293533', '308612',\n",
       "       '306788', '306327', '309395', '308019', '308213', '308021',\n",
       "       '307299', '306328', '309394', '306787', '297288', '306789',\n",
       "       '306326', '308212', '303248', '310464', '310463', '303246',\n",
       "       '308609', '309380', '309980', '303247', '310462', '310465',\n",
       "       '302935', '309381', '298593', '307302', '298594', '298595',\n",
       "       '307303', '293528', '307324', '293530', '308022', '308210',\n",
       "       '308611', '308415', '308412', '308211', '308023', '308413',\n",
       "       '308414', '308610', '306325', '306790', '309979', '309379',\n",
       "       '309977', '303245', '309382', '309978', '307559', '307557',\n",
       "       '307301', '307556', '298596', '307558'], dtype=object)"
      ]
     },
     "execution_count": 3,
     "metadata": {},
     "output_type": "execute_result"
    }
   ],
   "source": [
    "data.RunNumber.unique()"
   ]
  },
  {
   "cell_type": "code",
   "execution_count": 4,
   "metadata": {},
   "outputs": [],
   "source": [
    "# numbers = ['293532', '307328', '307326', '307327', '293533']\n",
    "\n",
    "numbers = ['293532', '307328', '307326']\n",
    "data = data.loc[data.RunNumber.isin(numbers)]"
   ]
  },
  {
   "cell_type": "code",
   "execution_count": 5,
   "metadata": {},
   "outputs": [
    {
     "name": "stdout",
     "output_type": "stream",
     "text": [
      "(1609728, 15)\n"
     ]
    },
    {
     "data": {
      "text/html": [
       "<div>\n",
       "<style scoped>\n",
       "    .dataframe tbody tr th:only-of-type {\n",
       "        vertical-align: middle;\n",
       "    }\n",
       "\n",
       "    .dataframe tbody tr th {\n",
       "        vertical-align: top;\n",
       "    }\n",
       "\n",
       "    .dataframe thead th {\n",
       "        text-align: right;\n",
       "    }\n",
       "</style>\n",
       "<table border=\"1\" class=\"dataframe\">\n",
       "  <thead>\n",
       "    <tr style=\"text-align: right;\">\n",
       "      <th></th>\n",
       "      <th>ChannelID</th>\n",
       "      <th>ChipID</th>\n",
       "      <th>Sector</th>\n",
       "      <th>ChannelNumber</th>\n",
       "      <th>Signal</th>\n",
       "      <th>CMSubstracted</th>\n",
       "      <th>ChipMean</th>\n",
       "      <th>ChipSigma</th>\n",
       "      <th>Staves</th>\n",
       "      <th>Rows</th>\n",
       "      <th>PedestalValue</th>\n",
       "      <th>Sigma</th>\n",
       "      <th>STD</th>\n",
       "      <th>SensorType</th>\n",
       "      <th>RunNumber</th>\n",
       "    </tr>\n",
       "  </thead>\n",
       "  <tbody>\n",
       "    <tr>\n",
       "      <th>0</th>\n",
       "      <td>4194304</td>\n",
       "      <td>Chip0</td>\n",
       "      <td>UTaX_1CB_S4</td>\n",
       "      <td>Ch0</td>\n",
       "      <td>0.029467</td>\n",
       "      <td>0.918810</td>\n",
       "      <td>-0.11862</td>\n",
       "      <td>1.04342</td>\n",
       "      <td>1C</td>\n",
       "      <td>S4B</td>\n",
       "      <td>-7</td>\n",
       "      <td>-7.12525</td>\n",
       "      <td>1.55569</td>\n",
       "      <td>A</td>\n",
       "      <td>293532</td>\n",
       "    </tr>\n",
       "    <tr>\n",
       "      <th>1</th>\n",
       "      <td>4194305</td>\n",
       "      <td>Chip0</td>\n",
       "      <td>UTaX_1CB_S4</td>\n",
       "      <td>Ch1</td>\n",
       "      <td>0.203336</td>\n",
       "      <td>0.715657</td>\n",
       "      <td>-0.11862</td>\n",
       "      <td>1.04342</td>\n",
       "      <td>1C</td>\n",
       "      <td>S4B</td>\n",
       "      <td>-7</td>\n",
       "      <td>-6.75779</td>\n",
       "      <td>1.21160</td>\n",
       "      <td>A</td>\n",
       "      <td>293532</td>\n",
       "    </tr>\n",
       "    <tr>\n",
       "      <th>2</th>\n",
       "      <td>4194306</td>\n",
       "      <td>Chip0</td>\n",
       "      <td>UTaX_1CB_S4</td>\n",
       "      <td>Ch2</td>\n",
       "      <td>0.102181</td>\n",
       "      <td>0.731728</td>\n",
       "      <td>-0.11862</td>\n",
       "      <td>1.04342</td>\n",
       "      <td>1C</td>\n",
       "      <td>S4B</td>\n",
       "      <td>-6</td>\n",
       "      <td>-5.91200</td>\n",
       "      <td>1.13765</td>\n",
       "      <td>A</td>\n",
       "      <td>293532</td>\n",
       "    </tr>\n",
       "    <tr>\n",
       "      <th>3</th>\n",
       "      <td>4194307</td>\n",
       "      <td>Chip0</td>\n",
       "      <td>UTaX_1CB_S4</td>\n",
       "      <td>Ch3</td>\n",
       "      <td>-0.386058</td>\n",
       "      <td>0.786628</td>\n",
       "      <td>-0.11862</td>\n",
       "      <td>1.04342</td>\n",
       "      <td>1C</td>\n",
       "      <td>S4B</td>\n",
       "      <td>-5</td>\n",
       "      <td>-5.42700</td>\n",
       "      <td>1.20610</td>\n",
       "      <td>A</td>\n",
       "      <td>293532</td>\n",
       "    </tr>\n",
       "    <tr>\n",
       "      <th>4</th>\n",
       "      <td>4194308</td>\n",
       "      <td>Chip0</td>\n",
       "      <td>UTaX_1CB_S4</td>\n",
       "      <td>Ch4</td>\n",
       "      <td>-0.196124</td>\n",
       "      <td>0.754681</td>\n",
       "      <td>-0.11862</td>\n",
       "      <td>1.04342</td>\n",
       "      <td>1C</td>\n",
       "      <td>S4B</td>\n",
       "      <td>-5</td>\n",
       "      <td>-5.28600</td>\n",
       "      <td>1.21664</td>\n",
       "      <td>A</td>\n",
       "      <td>293532</td>\n",
       "    </tr>\n",
       "  </tbody>\n",
       "</table>\n",
       "</div>"
      ],
      "text/plain": [
       "   ChannelID ChipID       Sector ChannelNumber    Signal  CMSubstracted  \\\n",
       "0    4194304  Chip0  UTaX_1CB_S4           Ch0  0.029467       0.918810   \n",
       "1    4194305  Chip0  UTaX_1CB_S4           Ch1  0.203336       0.715657   \n",
       "2    4194306  Chip0  UTaX_1CB_S4           Ch2  0.102181       0.731728   \n",
       "3    4194307  Chip0  UTaX_1CB_S4           Ch3 -0.386058       0.786628   \n",
       "4    4194308  Chip0  UTaX_1CB_S4           Ch4 -0.196124       0.754681   \n",
       "\n",
       "   ChipMean  ChipSigma Staves Rows  PedestalValue    Sigma      STD  \\\n",
       "0  -0.11862    1.04342     1C  S4B             -7 -7.12525  1.55569   \n",
       "1  -0.11862    1.04342     1C  S4B             -7 -6.75779  1.21160   \n",
       "2  -0.11862    1.04342     1C  S4B             -6 -5.91200  1.13765   \n",
       "3  -0.11862    1.04342     1C  S4B             -5 -5.42700  1.20610   \n",
       "4  -0.11862    1.04342     1C  S4B             -5 -5.28600  1.21664   \n",
       "\n",
       "  SensorType RunNumber  \n",
       "0          A    293532  \n",
       "1          A    293532  \n",
       "2          A    293532  \n",
       "3          A    293532  \n",
       "4          A    293532  "
      ]
     },
     "execution_count": 5,
     "metadata": {},
     "output_type": "execute_result"
    }
   ],
   "source": [
    "print(data.shape)\n",
    "data.head()"
   ]
  },
  {
   "cell_type": "code",
   "execution_count": 6,
   "metadata": {},
   "outputs": [],
   "source": [
    "#Taking only UTaX\n",
    "\n",
    "utax = data[data.Sector.str.startswith('UTaX')]\n",
    "\n",
    "#Run Number is in string format\n",
    "utax.RunNumber = pd.to_numeric(utax.RunNumber)"
   ]
  },
  {
   "cell_type": "code",
   "execution_count": 7,
   "metadata": {},
   "outputs": [
    {
     "data": {
      "text/html": [
       "<div>\n",
       "<style scoped>\n",
       "    .dataframe tbody tr th:only-of-type {\n",
       "        vertical-align: middle;\n",
       "    }\n",
       "\n",
       "    .dataframe tbody tr th {\n",
       "        vertical-align: top;\n",
       "    }\n",
       "\n",
       "    .dataframe thead th {\n",
       "        text-align: right;\n",
       "    }\n",
       "</style>\n",
       "<table border=\"1\" class=\"dataframe\">\n",
       "  <thead>\n",
       "    <tr style=\"text-align: right;\">\n",
       "      <th></th>\n",
       "      <th>Sector</th>\n",
       "      <th>RunNumber</th>\n",
       "      <th>ChannelID</th>\n",
       "      <th>Signal</th>\n",
       "      <th>CMSubstracted</th>\n",
       "      <th>ChipMean</th>\n",
       "      <th>ChipSigma</th>\n",
       "      <th>PedestalValue</th>\n",
       "      <th>Sigma</th>\n",
       "      <th>STD</th>\n",
       "    </tr>\n",
       "  </thead>\n",
       "  <tbody>\n",
       "    <tr>\n",
       "      <th>0</th>\n",
       "      <td>UTaX_1AB_M1E</td>\n",
       "      <td>293532</td>\n",
       "      <td>5254911.5</td>\n",
       "      <td>1.176758e-08</td>\n",
       "      <td>0.547003</td>\n",
       "      <td>-0.023957</td>\n",
       "      <td>0.700991</td>\n",
       "      <td>1.507812</td>\n",
       "      <td>1.522711</td>\n",
       "      <td>0.612546</td>\n",
       "    </tr>\n",
       "    <tr>\n",
       "      <th>1</th>\n",
       "      <td>UTaX_1AB_M1E</td>\n",
       "      <td>307326</td>\n",
       "      <td>5254911.5</td>\n",
       "      <td>2.241135e-05</td>\n",
       "      <td>0.651391</td>\n",
       "      <td>-0.148003</td>\n",
       "      <td>0.787287</td>\n",
       "      <td>-0.248047</td>\n",
       "      <td>-0.396975</td>\n",
       "      <td>0.712275</td>\n",
       "    </tr>\n",
       "    <tr>\n",
       "      <th>2</th>\n",
       "      <td>UTaX_1AB_M1E</td>\n",
       "      <td>307328</td>\n",
       "      <td>5254911.5</td>\n",
       "      <td>-1.012612e-04</td>\n",
       "      <td>0.605971</td>\n",
       "      <td>0.111766</td>\n",
       "      <td>0.749038</td>\n",
       "      <td>0.285156</td>\n",
       "      <td>0.400737</td>\n",
       "      <td>0.663729</td>\n",
       "    </tr>\n",
       "    <tr>\n",
       "      <th>3</th>\n",
       "      <td>UTaX_1AB_M1W</td>\n",
       "      <td>293532</td>\n",
       "      <td>5254399.5</td>\n",
       "      <td>-1.200488e-07</td>\n",
       "      <td>0.540727</td>\n",
       "      <td>0.163820</td>\n",
       "      <td>0.665020</td>\n",
       "      <td>2.718750</td>\n",
       "      <td>2.792046</td>\n",
       "      <td>0.604437</td>\n",
       "    </tr>\n",
       "    <tr>\n",
       "      <th>4</th>\n",
       "      <td>UTaX_1AB_M1W</td>\n",
       "      <td>307326</td>\n",
       "      <td>5254399.5</td>\n",
       "      <td>-4.464070e-05</td>\n",
       "      <td>0.618984</td>\n",
       "      <td>0.184502</td>\n",
       "      <td>0.715371</td>\n",
       "      <td>0.103516</td>\n",
       "      <td>0.293693</td>\n",
       "      <td>0.663907</td>\n",
       "    </tr>\n",
       "    <tr>\n",
       "      <th>...</th>\n",
       "      <td>...</td>\n",
       "      <td>...</td>\n",
       "      <td>...</td>\n",
       "      <td>...</td>\n",
       "      <td>...</td>\n",
       "      <td>...</td>\n",
       "      <td>...</td>\n",
       "      <td>...</td>\n",
       "      <td>...</td>\n",
       "      <td>...</td>\n",
       "    </tr>\n",
       "    <tr>\n",
       "      <th>739</th>\n",
       "      <td>UTaX_8CT_S2</td>\n",
       "      <td>307326</td>\n",
       "      <td>4323583.5</td>\n",
       "      <td>1.253333e-04</td>\n",
       "      <td>0.882702</td>\n",
       "      <td>-0.178846</td>\n",
       "      <td>0.957037</td>\n",
       "      <td>-0.062500</td>\n",
       "      <td>-0.248453</td>\n",
       "      <td>0.944743</td>\n",
       "    </tr>\n",
       "    <tr>\n",
       "      <th>740</th>\n",
       "      <td>UTaX_8CT_S2</td>\n",
       "      <td>307328</td>\n",
       "      <td>4323583.5</td>\n",
       "      <td>-1.277919e-03</td>\n",
       "      <td>0.810853</td>\n",
       "      <td>0.072671</td>\n",
       "      <td>0.933195</td>\n",
       "      <td>0.121094</td>\n",
       "      <td>0.187783</td>\n",
       "      <td>0.873636</td>\n",
       "    </tr>\n",
       "    <tr>\n",
       "      <th>741</th>\n",
       "      <td>UTaX_8CT_S3</td>\n",
       "      <td>293532</td>\n",
       "      <td>4324607.5</td>\n",
       "      <td>-1.149326e-04</td>\n",
       "      <td>0.858979</td>\n",
       "      <td>-0.332644</td>\n",
       "      <td>1.013548</td>\n",
       "      <td>1.689453</td>\n",
       "      <td>1.593912</td>\n",
       "      <td>1.055257</td>\n",
       "    </tr>\n",
       "    <tr>\n",
       "      <th>742</th>\n",
       "      <td>UTaX_8CT_S3</td>\n",
       "      <td>307326</td>\n",
       "      <td>4324607.5</td>\n",
       "      <td>-3.239334e-04</td>\n",
       "      <td>0.822134</td>\n",
       "      <td>-0.006360</td>\n",
       "      <td>0.896799</td>\n",
       "      <td>0.666016</td>\n",
       "      <td>0.658357</td>\n",
       "      <td>0.875953</td>\n",
       "    </tr>\n",
       "    <tr>\n",
       "      <th>743</th>\n",
       "      <td>UTaX_8CT_S3</td>\n",
       "      <td>307328</td>\n",
       "      <td>4324607.5</td>\n",
       "      <td>4.281524e-04</td>\n",
       "      <td>0.819365</td>\n",
       "      <td>-0.068744</td>\n",
       "      <td>0.902037</td>\n",
       "      <td>0.181641</td>\n",
       "      <td>0.114550</td>\n",
       "      <td>0.868139</td>\n",
       "    </tr>\n",
       "  </tbody>\n",
       "</table>\n",
       "<p>744 rows × 10 columns</p>\n",
       "</div>"
      ],
      "text/plain": [
       "           Sector  RunNumber  ChannelID        Signal  CMSubstracted  \\\n",
       "0    UTaX_1AB_M1E     293532  5254911.5  1.176758e-08       0.547003   \n",
       "1    UTaX_1AB_M1E     307326  5254911.5  2.241135e-05       0.651391   \n",
       "2    UTaX_1AB_M1E     307328  5254911.5 -1.012612e-04       0.605971   \n",
       "3    UTaX_1AB_M1W     293532  5254399.5 -1.200488e-07       0.540727   \n",
       "4    UTaX_1AB_M1W     307326  5254399.5 -4.464070e-05       0.618984   \n",
       "..            ...        ...        ...           ...            ...   \n",
       "739   UTaX_8CT_S2     307326  4323583.5  1.253333e-04       0.882702   \n",
       "740   UTaX_8CT_S2     307328  4323583.5 -1.277919e-03       0.810853   \n",
       "741   UTaX_8CT_S3     293532  4324607.5 -1.149326e-04       0.858979   \n",
       "742   UTaX_8CT_S3     307326  4324607.5 -3.239334e-04       0.822134   \n",
       "743   UTaX_8CT_S3     307328  4324607.5  4.281524e-04       0.819365   \n",
       "\n",
       "     ChipMean  ChipSigma  PedestalValue     Sigma       STD  \n",
       "0   -0.023957   0.700991       1.507812  1.522711  0.612546  \n",
       "1   -0.148003   0.787287      -0.248047 -0.396975  0.712275  \n",
       "2    0.111766   0.749038       0.285156  0.400737  0.663729  \n",
       "3    0.163820   0.665020       2.718750  2.792046  0.604437  \n",
       "4    0.184502   0.715371       0.103516  0.293693  0.663907  \n",
       "..        ...        ...            ...       ...       ...  \n",
       "739 -0.178846   0.957037      -0.062500 -0.248453  0.944743  \n",
       "740  0.072671   0.933195       0.121094  0.187783  0.873636  \n",
       "741 -0.332644   1.013548       1.689453  1.593912  1.055257  \n",
       "742 -0.006360   0.896799       0.666016  0.658357  0.875953  \n",
       "743 -0.068744   0.902037       0.181641  0.114550  0.868139  \n",
       "\n",
       "[744 rows x 10 columns]"
      ]
     },
     "execution_count": 7,
     "metadata": {},
     "output_type": "execute_result"
    }
   ],
   "source": [
    "#Reducing the granularity to Sector Level\n",
    "columns_to_include = ['Sector'] + utax.select_dtypes(exclude='object').columns.tolist()\n",
    "\n",
    "# Aggregating the codes to Sector and Run Number\n",
    "# This will provide all the required data for each sector of UTaX Plan\n",
    "sector_level_data = utax[columns_to_include].groupby(['Sector','RunNumber']).mean().reset_index()\n",
    "\n",
    "sector_level_data"
   ]
  },
  {
   "cell_type": "code",
   "execution_count": 8,
   "metadata": {},
   "outputs": [
    {
     "data": {
      "text/html": [
       "<div>\n",
       "<style scoped>\n",
       "    .dataframe tbody tr th:only-of-type {\n",
       "        vertical-align: middle;\n",
       "    }\n",
       "\n",
       "    .dataframe tbody tr th {\n",
       "        vertical-align: top;\n",
       "    }\n",
       "\n",
       "    .dataframe thead th {\n",
       "        text-align: right;\n",
       "    }\n",
       "</style>\n",
       "<table border=\"1\" class=\"dataframe\">\n",
       "  <thead>\n",
       "    <tr style=\"text-align: right;\">\n",
       "      <th></th>\n",
       "      <th>Sector</th>\n",
       "      <th>RunNumber</th>\n",
       "      <th>ChannelID</th>\n",
       "      <th>Signal</th>\n",
       "      <th>CMSubstracted</th>\n",
       "      <th>ChipMean</th>\n",
       "      <th>ChipSigma</th>\n",
       "      <th>PedestalValue</th>\n",
       "      <th>Sigma</th>\n",
       "      <th>STD</th>\n",
       "    </tr>\n",
       "  </thead>\n",
       "  <tbody>\n",
       "    <tr>\n",
       "      <th>0</th>\n",
       "      <td>UTaX_1AB_M1E</td>\n",
       "      <td>293532</td>\n",
       "      <td>5254911.5</td>\n",
       "      <td>1.176758e-08</td>\n",
       "      <td>0.547003</td>\n",
       "      <td>-0.023957</td>\n",
       "      <td>0.700991</td>\n",
       "      <td>1.507812</td>\n",
       "      <td>1.522711</td>\n",
       "      <td>0.612546</td>\n",
       "    </tr>\n",
       "    <tr>\n",
       "      <th>1</th>\n",
       "      <td>UTaX_1AB_M1E</td>\n",
       "      <td>307326</td>\n",
       "      <td>5254911.5</td>\n",
       "      <td>2.241135e-05</td>\n",
       "      <td>0.651391</td>\n",
       "      <td>-0.148003</td>\n",
       "      <td>0.787287</td>\n",
       "      <td>-0.248047</td>\n",
       "      <td>-0.396975</td>\n",
       "      <td>0.712275</td>\n",
       "    </tr>\n",
       "    <tr>\n",
       "      <th>2</th>\n",
       "      <td>UTaX_1AB_M1E</td>\n",
       "      <td>307328</td>\n",
       "      <td>5254911.5</td>\n",
       "      <td>-1.012612e-04</td>\n",
       "      <td>0.605971</td>\n",
       "      <td>0.111766</td>\n",
       "      <td>0.749038</td>\n",
       "      <td>0.285156</td>\n",
       "      <td>0.400737</td>\n",
       "      <td>0.663729</td>\n",
       "    </tr>\n",
       "    <tr>\n",
       "      <th>3</th>\n",
       "      <td>UTaX_1AB_M1W</td>\n",
       "      <td>293532</td>\n",
       "      <td>5254399.5</td>\n",
       "      <td>-1.200488e-07</td>\n",
       "      <td>0.540727</td>\n",
       "      <td>0.163820</td>\n",
       "      <td>0.665020</td>\n",
       "      <td>2.718750</td>\n",
       "      <td>2.792046</td>\n",
       "      <td>0.604437</td>\n",
       "    </tr>\n",
       "    <tr>\n",
       "      <th>4</th>\n",
       "      <td>UTaX_1AB_M1W</td>\n",
       "      <td>307326</td>\n",
       "      <td>5254399.5</td>\n",
       "      <td>-4.464070e-05</td>\n",
       "      <td>0.618984</td>\n",
       "      <td>0.184502</td>\n",
       "      <td>0.715371</td>\n",
       "      <td>0.103516</td>\n",
       "      <td>0.293693</td>\n",
       "      <td>0.663907</td>\n",
       "    </tr>\n",
       "    <tr>\n",
       "      <th>...</th>\n",
       "      <td>...</td>\n",
       "      <td>...</td>\n",
       "      <td>...</td>\n",
       "      <td>...</td>\n",
       "      <td>...</td>\n",
       "      <td>...</td>\n",
       "      <td>...</td>\n",
       "      <td>...</td>\n",
       "      <td>...</td>\n",
       "      <td>...</td>\n",
       "    </tr>\n",
       "    <tr>\n",
       "      <th>739</th>\n",
       "      <td>UTaX_8CT_S2</td>\n",
       "      <td>307326</td>\n",
       "      <td>4323583.5</td>\n",
       "      <td>1.253333e-04</td>\n",
       "      <td>0.882702</td>\n",
       "      <td>-0.178846</td>\n",
       "      <td>0.957037</td>\n",
       "      <td>-0.062500</td>\n",
       "      <td>-0.248453</td>\n",
       "      <td>0.944743</td>\n",
       "    </tr>\n",
       "    <tr>\n",
       "      <th>740</th>\n",
       "      <td>UTaX_8CT_S2</td>\n",
       "      <td>307328</td>\n",
       "      <td>4323583.5</td>\n",
       "      <td>-1.277919e-03</td>\n",
       "      <td>0.810853</td>\n",
       "      <td>0.072671</td>\n",
       "      <td>0.933195</td>\n",
       "      <td>0.121094</td>\n",
       "      <td>0.187783</td>\n",
       "      <td>0.873636</td>\n",
       "    </tr>\n",
       "    <tr>\n",
       "      <th>741</th>\n",
       "      <td>UTaX_8CT_S3</td>\n",
       "      <td>293532</td>\n",
       "      <td>4324607.5</td>\n",
       "      <td>-1.149326e-04</td>\n",
       "      <td>0.858979</td>\n",
       "      <td>-0.332644</td>\n",
       "      <td>1.013548</td>\n",
       "      <td>1.689453</td>\n",
       "      <td>1.593912</td>\n",
       "      <td>1.055257</td>\n",
       "    </tr>\n",
       "    <tr>\n",
       "      <th>742</th>\n",
       "      <td>UTaX_8CT_S3</td>\n",
       "      <td>307326</td>\n",
       "      <td>4324607.5</td>\n",
       "      <td>-3.239334e-04</td>\n",
       "      <td>0.822134</td>\n",
       "      <td>-0.006360</td>\n",
       "      <td>0.896799</td>\n",
       "      <td>0.666016</td>\n",
       "      <td>0.658357</td>\n",
       "      <td>0.875953</td>\n",
       "    </tr>\n",
       "    <tr>\n",
       "      <th>743</th>\n",
       "      <td>UTaX_8CT_S3</td>\n",
       "      <td>307328</td>\n",
       "      <td>4324607.5</td>\n",
       "      <td>4.281524e-04</td>\n",
       "      <td>0.819365</td>\n",
       "      <td>-0.068744</td>\n",
       "      <td>0.902037</td>\n",
       "      <td>0.181641</td>\n",
       "      <td>0.114550</td>\n",
       "      <td>0.868139</td>\n",
       "    </tr>\n",
       "  </tbody>\n",
       "</table>\n",
       "<p>744 rows × 10 columns</p>\n",
       "</div>"
      ],
      "text/plain": [
       "           Sector  RunNumber  ChannelID        Signal  CMSubstracted  \\\n",
       "0    UTaX_1AB_M1E     293532  5254911.5  1.176758e-08       0.547003   \n",
       "1    UTaX_1AB_M1E     307326  5254911.5  2.241135e-05       0.651391   \n",
       "2    UTaX_1AB_M1E     307328  5254911.5 -1.012612e-04       0.605971   \n",
       "3    UTaX_1AB_M1W     293532  5254399.5 -1.200488e-07       0.540727   \n",
       "4    UTaX_1AB_M1W     307326  5254399.5 -4.464070e-05       0.618984   \n",
       "..            ...        ...        ...           ...            ...   \n",
       "739   UTaX_8CT_S2     307326  4323583.5  1.253333e-04       0.882702   \n",
       "740   UTaX_8CT_S2     307328  4323583.5 -1.277919e-03       0.810853   \n",
       "741   UTaX_8CT_S3     293532  4324607.5 -1.149326e-04       0.858979   \n",
       "742   UTaX_8CT_S3     307326  4324607.5 -3.239334e-04       0.822134   \n",
       "743   UTaX_8CT_S3     307328  4324607.5  4.281524e-04       0.819365   \n",
       "\n",
       "     ChipMean  ChipSigma  PedestalValue     Sigma       STD  \n",
       "0   -0.023957   0.700991       1.507812  1.522711  0.612546  \n",
       "1   -0.148003   0.787287      -0.248047 -0.396975  0.712275  \n",
       "2    0.111766   0.749038       0.285156  0.400737  0.663729  \n",
       "3    0.163820   0.665020       2.718750  2.792046  0.604437  \n",
       "4    0.184502   0.715371       0.103516  0.293693  0.663907  \n",
       "..        ...        ...            ...       ...       ...  \n",
       "739 -0.178846   0.957037      -0.062500 -0.248453  0.944743  \n",
       "740  0.072671   0.933195       0.121094  0.187783  0.873636  \n",
       "741 -0.332644   1.013548       1.689453  1.593912  1.055257  \n",
       "742 -0.006360   0.896799       0.666016  0.658357  0.875953  \n",
       "743 -0.068744   0.902037       0.181641  0.114550  0.868139  \n",
       "\n",
       "[744 rows x 10 columns]"
      ]
     },
     "execution_count": 8,
     "metadata": {},
     "output_type": "execute_result"
    }
   ],
   "source": [
    "sector_level_data"
   ]
  },
  {
   "cell_type": "code",
   "execution_count": 9,
   "metadata": {},
   "outputs": [],
   "source": [
    "scaler = MinMaxScaler(feature_range=(0, 1))\n",
    "\n",
    "\n",
    "# Fit and transform the data\n",
    "numericals_utax_scaled = pd.DataFrame(scaler.fit_transform(sector_level_data.drop('Sector',axis=1)))\n",
    "numericals_utax_scaled.columns = sector_level_data.drop('Sector',axis=1).columns"
   ]
  },
  {
   "cell_type": "code",
   "execution_count": 10,
   "metadata": {},
   "outputs": [
    {
     "data": {
      "text/html": [
       "<div>\n",
       "<style scoped>\n",
       "    .dataframe tbody tr th:only-of-type {\n",
       "        vertical-align: middle;\n",
       "    }\n",
       "\n",
       "    .dataframe tbody tr th {\n",
       "        vertical-align: top;\n",
       "    }\n",
       "\n",
       "    .dataframe thead th {\n",
       "        text-align: right;\n",
       "    }\n",
       "</style>\n",
       "<table border=\"1\" class=\"dataframe\">\n",
       "  <thead>\n",
       "    <tr style=\"text-align: right;\">\n",
       "      <th></th>\n",
       "      <th>RunNumber</th>\n",
       "      <th>ChannelID</th>\n",
       "      <th>Signal</th>\n",
       "      <th>CMSubstracted</th>\n",
       "      <th>ChipMean</th>\n",
       "      <th>ChipSigma</th>\n",
       "      <th>PedestalValue</th>\n",
       "      <th>Sigma</th>\n",
       "      <th>STD</th>\n",
       "    </tr>\n",
       "  </thead>\n",
       "  <tbody>\n",
       "    <tr>\n",
       "      <th>0</th>\n",
       "      <td>0.000000</td>\n",
       "      <td>0.899652</td>\n",
       "      <td>0.345993</td>\n",
       "      <td>0.063062</td>\n",
       "      <td>0.469402</td>\n",
       "      <td>0.075157</td>\n",
       "      <td>0.792190</td>\n",
       "      <td>0.792423</td>\n",
       "      <td>0.306702</td>\n",
       "    </tr>\n",
       "    <tr>\n",
       "      <th>1</th>\n",
       "      <td>0.999855</td>\n",
       "      <td>0.899652</td>\n",
       "      <td>0.347010</td>\n",
       "      <td>0.242232</td>\n",
       "      <td>0.373396</td>\n",
       "      <td>0.148375</td>\n",
       "      <td>0.712044</td>\n",
       "      <td>0.704853</td>\n",
       "      <td>0.356636</td>\n",
       "    </tr>\n",
       "    <tr>\n",
       "      <th>2</th>\n",
       "      <td>1.000000</td>\n",
       "      <td>0.899652</td>\n",
       "      <td>0.341396</td>\n",
       "      <td>0.164272</td>\n",
       "      <td>0.574445</td>\n",
       "      <td>0.115922</td>\n",
       "      <td>0.736382</td>\n",
       "      <td>0.741242</td>\n",
       "      <td>0.332329</td>\n",
       "    </tr>\n",
       "    <tr>\n",
       "      <th>3</th>\n",
       "      <td>0.000000</td>\n",
       "      <td>0.899218</td>\n",
       "      <td>0.345987</td>\n",
       "      <td>0.052289</td>\n",
       "      <td>0.614732</td>\n",
       "      <td>0.044637</td>\n",
       "      <td>0.847464</td>\n",
       "      <td>0.850327</td>\n",
       "      <td>0.302642</td>\n",
       "    </tr>\n",
       "    <tr>\n",
       "      <th>4</th>\n",
       "      <td>0.999855</td>\n",
       "      <td>0.899218</td>\n",
       "      <td>0.343966</td>\n",
       "      <td>0.186608</td>\n",
       "      <td>0.630738</td>\n",
       "      <td>0.087357</td>\n",
       "      <td>0.728091</td>\n",
       "      <td>0.736359</td>\n",
       "      <td>0.332419</td>\n",
       "    </tr>\n",
       "    <tr>\n",
       "      <th>...</th>\n",
       "      <td>...</td>\n",
       "      <td>...</td>\n",
       "      <td>...</td>\n",
       "      <td>...</td>\n",
       "      <td>...</td>\n",
       "      <td>...</td>\n",
       "      <td>...</td>\n",
       "      <td>...</td>\n",
       "      <td>...</td>\n",
       "    </tr>\n",
       "    <tr>\n",
       "      <th>739</th>\n",
       "      <td>0.999855</td>\n",
       "      <td>0.109470</td>\n",
       "      <td>0.351682</td>\n",
       "      <td>0.639249</td>\n",
       "      <td>0.349525</td>\n",
       "      <td>0.292400</td>\n",
       "      <td>0.720514</td>\n",
       "      <td>0.711628</td>\n",
       "      <td>0.473033</td>\n",
       "    </tr>\n",
       "    <tr>\n",
       "      <th>740</th>\n",
       "      <td>1.000000</td>\n",
       "      <td>0.109470</td>\n",
       "      <td>0.287978</td>\n",
       "      <td>0.515929</td>\n",
       "      <td>0.544187</td>\n",
       "      <td>0.272172</td>\n",
       "      <td>0.728894</td>\n",
       "      <td>0.731528</td>\n",
       "      <td>0.437430</td>\n",
       "    </tr>\n",
       "    <tr>\n",
       "      <th>741</th>\n",
       "      <td>0.000000</td>\n",
       "      <td>0.110339</td>\n",
       "      <td>0.340775</td>\n",
       "      <td>0.598532</td>\n",
       "      <td>0.230493</td>\n",
       "      <td>0.340348</td>\n",
       "      <td>0.800481</td>\n",
       "      <td>0.795671</td>\n",
       "      <td>0.528367</td>\n",
       "    </tr>\n",
       "    <tr>\n",
       "      <th>742</th>\n",
       "      <td>0.999855</td>\n",
       "      <td>0.110339</td>\n",
       "      <td>0.331287</td>\n",
       "      <td>0.535291</td>\n",
       "      <td>0.483020</td>\n",
       "      <td>0.241292</td>\n",
       "      <td>0.753767</td>\n",
       "      <td>0.752994</td>\n",
       "      <td>0.438590</td>\n",
       "    </tr>\n",
       "    <tr>\n",
       "      <th>743</th>\n",
       "      <td>1.000000</td>\n",
       "      <td>0.110339</td>\n",
       "      <td>0.365430</td>\n",
       "      <td>0.530539</td>\n",
       "      <td>0.434739</td>\n",
       "      <td>0.245735</td>\n",
       "      <td>0.731657</td>\n",
       "      <td>0.728187</td>\n",
       "      <td>0.434677</td>\n",
       "    </tr>\n",
       "  </tbody>\n",
       "</table>\n",
       "<p>744 rows × 9 columns</p>\n",
       "</div>"
      ],
      "text/plain": [
       "     RunNumber  ChannelID    Signal  CMSubstracted  ChipMean  ChipSigma  \\\n",
       "0     0.000000   0.899652  0.345993       0.063062  0.469402   0.075157   \n",
       "1     0.999855   0.899652  0.347010       0.242232  0.373396   0.148375   \n",
       "2     1.000000   0.899652  0.341396       0.164272  0.574445   0.115922   \n",
       "3     0.000000   0.899218  0.345987       0.052289  0.614732   0.044637   \n",
       "4     0.999855   0.899218  0.343966       0.186608  0.630738   0.087357   \n",
       "..         ...        ...       ...            ...       ...        ...   \n",
       "739   0.999855   0.109470  0.351682       0.639249  0.349525   0.292400   \n",
       "740   1.000000   0.109470  0.287978       0.515929  0.544187   0.272172   \n",
       "741   0.000000   0.110339  0.340775       0.598532  0.230493   0.340348   \n",
       "742   0.999855   0.110339  0.331287       0.535291  0.483020   0.241292   \n",
       "743   1.000000   0.110339  0.365430       0.530539  0.434739   0.245735   \n",
       "\n",
       "     PedestalValue     Sigma       STD  \n",
       "0         0.792190  0.792423  0.306702  \n",
       "1         0.712044  0.704853  0.356636  \n",
       "2         0.736382  0.741242  0.332329  \n",
       "3         0.847464  0.850327  0.302642  \n",
       "4         0.728091  0.736359  0.332419  \n",
       "..             ...       ...       ...  \n",
       "739       0.720514  0.711628  0.473033  \n",
       "740       0.728894  0.731528  0.437430  \n",
       "741       0.800481  0.795671  0.528367  \n",
       "742       0.753767  0.752994  0.438590  \n",
       "743       0.731657  0.728187  0.434677  \n",
       "\n",
       "[744 rows x 9 columns]"
      ]
     },
     "execution_count": 10,
     "metadata": {},
     "output_type": "execute_result"
    }
   ],
   "source": [
    "numericals_utax_scaled"
   ]
  },
  {
   "cell_type": "code",
   "execution_count": 11,
   "metadata": {},
   "outputs": [
    {
     "data": {
      "image/png": "[encoded data removed]",
      "text/plain": [
       "<Figure size 1400x1000 with 16 Axes>"
      ]
     },
     "metadata": {},
     "output_type": "display_data"
    }
   ],
   "source": [
    "numericals_utax_scaled.drop(['RunNumber'],axis=1).sample(frac=0.01).plot(kind='box',layout=(4,4),\n",
    "                                              subplots=True,figsize=(14,10),sharey=True)\n",
    "plt.show()"
   ]
  },
  {
   "cell_type": "code",
   "execution_count": 12,
   "metadata": {},
   "outputs": [],
   "source": [
    "from sklearn.model_selection import train_test_split"
   ]
  },
  {
   "cell_type": "code",
   "execution_count": 13,
   "metadata": {},
   "outputs": [
    {
     "data": {
      "text/html": [
       "<div>\n",
       "<style scoped>\n",
       "    .dataframe tbody tr th:only-of-type {\n",
       "        vertical-align: middle;\n",
       "    }\n",
       "\n",
       "    .dataframe tbody tr th {\n",
       "        vertical-align: top;\n",
       "    }\n",
       "\n",
       "    .dataframe thead th {\n",
       "        text-align: right;\n",
       "    }\n",
       "</style>\n",
       "<table border=\"1\" class=\"dataframe\">\n",
       "  <thead>\n",
       "    <tr style=\"text-align: right;\">\n",
       "      <th></th>\n",
       "      <th>RunNumber</th>\n",
       "      <th>ChannelID</th>\n",
       "      <th>Signal</th>\n",
       "      <th>CMSubstracted</th>\n",
       "      <th>ChipMean</th>\n",
       "      <th>ChipSigma</th>\n",
       "      <th>PedestalValue</th>\n",
       "      <th>Sigma</th>\n",
       "      <th>STD</th>\n",
       "    </tr>\n",
       "  </thead>\n",
       "  <tbody>\n",
       "    <tr>\n",
       "      <th>0</th>\n",
       "      <td>0.000000</td>\n",
       "      <td>0.899652</td>\n",
       "      <td>0.345993</td>\n",
       "      <td>0.063062</td>\n",
       "      <td>0.469402</td>\n",
       "      <td>0.075157</td>\n",
       "      <td>0.792190</td>\n",
       "      <td>0.792423</td>\n",
       "      <td>0.306702</td>\n",
       "    </tr>\n",
       "    <tr>\n",
       "      <th>1</th>\n",
       "      <td>0.999855</td>\n",
       "      <td>0.899652</td>\n",
       "      <td>0.347010</td>\n",
       "      <td>0.242232</td>\n",
       "      <td>0.373396</td>\n",
       "      <td>0.148375</td>\n",
       "      <td>0.712044</td>\n",
       "      <td>0.704853</td>\n",
       "      <td>0.356636</td>\n",
       "    </tr>\n",
       "    <tr>\n",
       "      <th>2</th>\n",
       "      <td>1.000000</td>\n",
       "      <td>0.899652</td>\n",
       "      <td>0.341396</td>\n",
       "      <td>0.164272</td>\n",
       "      <td>0.574445</td>\n",
       "      <td>0.115922</td>\n",
       "      <td>0.736382</td>\n",
       "      <td>0.741242</td>\n",
       "      <td>0.332329</td>\n",
       "    </tr>\n",
       "    <tr>\n",
       "      <th>3</th>\n",
       "      <td>0.000000</td>\n",
       "      <td>0.899218</td>\n",
       "      <td>0.345987</td>\n",
       "      <td>0.052289</td>\n",
       "      <td>0.614732</td>\n",
       "      <td>0.044637</td>\n",
       "      <td>0.847464</td>\n",
       "      <td>0.850327</td>\n",
       "      <td>0.302642</td>\n",
       "    </tr>\n",
       "    <tr>\n",
       "      <th>4</th>\n",
       "      <td>0.999855</td>\n",
       "      <td>0.899218</td>\n",
       "      <td>0.343966</td>\n",
       "      <td>0.186608</td>\n",
       "      <td>0.630738</td>\n",
       "      <td>0.087357</td>\n",
       "      <td>0.728091</td>\n",
       "      <td>0.736359</td>\n",
       "      <td>0.332419</td>\n",
       "    </tr>\n",
       "    <tr>\n",
       "      <th>...</th>\n",
       "      <td>...</td>\n",
       "      <td>...</td>\n",
       "      <td>...</td>\n",
       "      <td>...</td>\n",
       "      <td>...</td>\n",
       "      <td>...</td>\n",
       "      <td>...</td>\n",
       "      <td>...</td>\n",
       "      <td>...</td>\n",
       "    </tr>\n",
       "    <tr>\n",
       "      <th>739</th>\n",
       "      <td>0.999855</td>\n",
       "      <td>0.109470</td>\n",
       "      <td>0.351682</td>\n",
       "      <td>0.639249</td>\n",
       "      <td>0.349525</td>\n",
       "      <td>0.292400</td>\n",
       "      <td>0.720514</td>\n",
       "      <td>0.711628</td>\n",
       "      <td>0.473033</td>\n",
       "    </tr>\n",
       "    <tr>\n",
       "      <th>740</th>\n",
       "      <td>1.000000</td>\n",
       "      <td>0.109470</td>\n",
       "      <td>0.287978</td>\n",
       "      <td>0.515929</td>\n",
       "      <td>0.544187</td>\n",
       "      <td>0.272172</td>\n",
       "      <td>0.728894</td>\n",
       "      <td>0.731528</td>\n",
       "      <td>0.437430</td>\n",
       "    </tr>\n",
       "    <tr>\n",
       "      <th>741</th>\n",
       "      <td>0.000000</td>\n",
       "      <td>0.110339</td>\n",
       "      <td>0.340775</td>\n",
       "      <td>0.598532</td>\n",
       "      <td>0.230493</td>\n",
       "      <td>0.340348</td>\n",
       "      <td>0.800481</td>\n",
       "      <td>0.795671</td>\n",
       "      <td>0.528367</td>\n",
       "    </tr>\n",
       "    <tr>\n",
       "      <th>742</th>\n",
       "      <td>0.999855</td>\n",
       "      <td>0.110339</td>\n",
       "      <td>0.331287</td>\n",
       "      <td>0.535291</td>\n",
       "      <td>0.483020</td>\n",
       "      <td>0.241292</td>\n",
       "      <td>0.753767</td>\n",
       "      <td>0.752994</td>\n",
       "      <td>0.438590</td>\n",
       "    </tr>\n",
       "    <tr>\n",
       "      <th>743</th>\n",
       "      <td>1.000000</td>\n",
       "      <td>0.110339</td>\n",
       "      <td>0.365430</td>\n",
       "      <td>0.530539</td>\n",
       "      <td>0.434739</td>\n",
       "      <td>0.245735</td>\n",
       "      <td>0.731657</td>\n",
       "      <td>0.728187</td>\n",
       "      <td>0.434677</td>\n",
       "    </tr>\n",
       "  </tbody>\n",
       "</table>\n",
       "<p>744 rows × 9 columns</p>\n",
       "</div>"
      ],
      "text/plain": [
       "     RunNumber  ChannelID    Signal  CMSubstracted  ChipMean  ChipSigma  \\\n",
       "0     0.000000   0.899652  0.345993       0.063062  0.469402   0.075157   \n",
       "1     0.999855   0.899652  0.347010       0.242232  0.373396   0.148375   \n",
       "2     1.000000   0.899652  0.341396       0.164272  0.574445   0.115922   \n",
       "3     0.000000   0.899218  0.345987       0.052289  0.614732   0.044637   \n",
       "4     0.999855   0.899218  0.343966       0.186608  0.630738   0.087357   \n",
       "..         ...        ...       ...            ...       ...        ...   \n",
       "739   0.999855   0.109470  0.351682       0.639249  0.349525   0.292400   \n",
       "740   1.000000   0.109470  0.287978       0.515929  0.544187   0.272172   \n",
       "741   0.000000   0.110339  0.340775       0.598532  0.230493   0.340348   \n",
       "742   0.999855   0.110339  0.331287       0.535291  0.483020   0.241292   \n",
       "743   1.000000   0.110339  0.365430       0.530539  0.434739   0.245735   \n",
       "\n",
       "     PedestalValue     Sigma       STD  \n",
       "0         0.792190  0.792423  0.306702  \n",
       "1         0.712044  0.704853  0.356636  \n",
       "2         0.736382  0.741242  0.332329  \n",
       "3         0.847464  0.850327  0.302642  \n",
       "4         0.728091  0.736359  0.332419  \n",
       "..             ...       ...       ...  \n",
       "739       0.720514  0.711628  0.473033  \n",
       "740       0.728894  0.731528  0.437430  \n",
       "741       0.800481  0.795671  0.528367  \n",
       "742       0.753767  0.752994  0.438590  \n",
       "743       0.731657  0.728187  0.434677  \n",
       "\n",
       "[744 rows x 9 columns]"
      ]
     },
     "execution_count": 13,
     "metadata": {},
     "output_type": "execute_result"
    }
   ],
   "source": [
    "numericals_utax_scaled"
   ]
  },
  {
   "cell_type": "code",
   "execution_count": 14,
   "metadata": {},
   "outputs": [],
   "source": [
    "xTrain, xTest = train_test_split(numericals_utax_scaled['PedestalValue'],shuffle=False,test_size=0.05)"
   ]
  },
  {
   "cell_type": "code",
   "execution_count": 15,
   "metadata": {},
   "outputs": [
    {
     "data": {
      "image/png": "[encoded data removed]",
      "text/plain": [
       "<Figure size 640x480 with 1 Axes>"
      ]
     },
     "metadata": {},
     "output_type": "display_data"
    }
   ],
   "source": [
    "plt.plot(xTrain)\n",
    "plt.plot(xTest)\n",
    "plt.show()"
   ]
  },
  {
   "cell_type": "code",
   "execution_count": 16,
   "metadata": {},
   "outputs": [
    {
     "data": {
      "image/png": "[encoded data removed]",
      "text/plain": [
       "<Figure size 640x480 with 1 Axes>"
      ]
     },
     "execution_count": 16,
     "metadata": {},
     "output_type": "execute_result"
    },
    {
     "data": {
      "image/png": "[encoded data removed]",
      "text/plain": [
       "<Figure size 640x480 with 1 Axes>"
      ]
     },
     "metadata": {},
     "output_type": "display_data"
    }
   ],
   "source": [
    "#finding I\n",
    "plot_pacf(xTrain)"
   ]
  },
  {
   "cell_type": "code",
   "execution_count": 17,
   "metadata": {},
   "outputs": [
    {
     "name": "stderr",
     "output_type": "stream",
     "text": [
      "  0%|          | 0/15 [00:00<?, ?it/s]/Users/sabinhashmi/miniconda3/envs/workbox/lib/python3.8/site-packages/statsmodels/base/model.py:607: ConvergenceWarning: Maximum Likelihood optimization failed to converge. Check mle_retvals\n",
      "  warnings.warn(\"Maximum Likelihood optimization failed to \"\n",
      "100%|██████████| 10/10 [00:06<00:00,  1.65it/s]\n",
      "  7%|▋         | 1/15 [00:06<01:24,  6.06s/it]/Users/sabinhashmi/miniconda3/envs/workbox/lib/python3.8/site-packages/statsmodels/base/model.py:607: ConvergenceWarning: Maximum Likelihood optimization failed to converge. Check mle_retvals\n",
      "  warnings.warn(\"Maximum Likelihood optimization failed to \"\n",
      "100%|██████████| 10/10 [00:07<00:00,  1.29it/s]\n",
      " 13%|█▎        | 2/15 [00:13<01:31,  7.07s/it]/Users/sabinhashmi/miniconda3/envs/workbox/lib/python3.8/site-packages/statsmodels/base/model.py:607: ConvergenceWarning: Maximum Likelihood optimization failed to converge. Check mle_retvals\n",
      "  warnings.warn(\"Maximum Likelihood optimization failed to \"\n",
      "/Users/sabinhashmi/miniconda3/envs/workbox/lib/python3.8/site-packages/statsmodels/base/model.py:607: ConvergenceWarning: Maximum Likelihood optimization failed to converge. Check mle_retvals\n",
      "  warnings.warn(\"Maximum Likelihood optimization failed to \"\n",
      "/Users/sabinhashmi/miniconda3/envs/workbox/lib/python3.8/site-packages/statsmodels/base/model.py:607: ConvergenceWarning: Maximum Likelihood optimization failed to converge. Check mle_retvals\n",
      "  warnings.warn(\"Maximum Likelihood optimization failed to \"\n",
      "/Users/sabinhashmi/miniconda3/envs/workbox/lib/python3.8/site-packages/statsmodels/base/model.py:607: ConvergenceWarning: Maximum Likelihood optimization failed to converge. Check mle_retvals\n",
      "  warnings.warn(\"Maximum Likelihood optimization failed to \"\n",
      "/Users/sabinhashmi/miniconda3/envs/workbox/lib/python3.8/site-packages/statsmodels/base/model.py:607: ConvergenceWarning: Maximum Likelihood optimization failed to converge. Check mle_retvals\n",
      "  warnings.warn(\"Maximum Likelihood optimization failed to \"\n",
      "100%|██████████| 10/10 [00:09<00:00,  1.04it/s]\n",
      " 20%|██        | 3/15 [00:23<01:38,  8.22s/it]/Users/sabinhashmi/miniconda3/envs/workbox/lib/python3.8/site-packages/statsmodels/base/model.py:607: ConvergenceWarning: Maximum Likelihood optimization failed to converge. Check mle_retvals\n",
      "  warnings.warn(\"Maximum Likelihood optimization failed to \"\n",
      "/Users/sabinhashmi/miniconda3/envs/workbox/lib/python3.8/site-packages/statsmodels/base/model.py:607: ConvergenceWarning: Maximum Likelihood optimization failed to converge. Check mle_retvals\n",
      "  warnings.warn(\"Maximum Likelihood optimization failed to \"\n",
      "/Users/sabinhashmi/miniconda3/envs/workbox/lib/python3.8/site-packages/statsmodels/base/model.py:607: ConvergenceWarning: Maximum Likelihood optimization failed to converge. Check mle_retvals\n",
      "  warnings.warn(\"Maximum Likelihood optimization failed to \"\n",
      "/Users/sabinhashmi/miniconda3/envs/workbox/lib/python3.8/site-packages/statsmodels/base/model.py:607: ConvergenceWarning: Maximum Likelihood optimization failed to converge. Check mle_retvals\n",
      "  warnings.warn(\"Maximum Likelihood optimization failed to \"\n",
      "/Users/sabinhashmi/miniconda3/envs/workbox/lib/python3.8/site-packages/statsmodels/base/model.py:607: ConvergenceWarning: Maximum Likelihood optimization failed to converge. Check mle_retvals\n",
      "  warnings.warn(\"Maximum Likelihood optimization failed to \"\n",
      "/Users/sabinhashmi/miniconda3/envs/workbox/lib/python3.8/site-packages/statsmodels/base/model.py:607: ConvergenceWarning: Maximum Likelihood optimization failed to converge. Check mle_retvals\n",
      "  warnings.warn(\"Maximum Likelihood optimization failed to \"\n",
      "/Users/sabinhashmi/miniconda3/envs/workbox/lib/python3.8/site-packages/statsmodels/base/model.py:607: ConvergenceWarning: Maximum Likelihood optimization failed to converge. Check mle_retvals\n",
      "  warnings.warn(\"Maximum Likelihood optimization failed to \"\n",
      "100%|██████████| 10/10 [00:10<00:00,  1.09s/it]\n",
      " 27%|██▋       | 4/15 [00:34<01:42,  9.31s/it]/Users/sabinhashmi/miniconda3/envs/workbox/lib/python3.8/site-packages/statsmodels/base/model.py:607: ConvergenceWarning: Maximum Likelihood optimization failed to converge. Check mle_retvals\n",
      "  warnings.warn(\"Maximum Likelihood optimization failed to \"\n",
      "/Users/sabinhashmi/miniconda3/envs/workbox/lib/python3.8/site-packages/statsmodels/base/model.py:607: ConvergenceWarning: Maximum Likelihood optimization failed to converge. Check mle_retvals\n",
      "  warnings.warn(\"Maximum Likelihood optimization failed to \"\n",
      "/Users/sabinhashmi/miniconda3/envs/workbox/lib/python3.8/site-packages/statsmodels/base/model.py:607: ConvergenceWarning: Maximum Likelihood optimization failed to converge. Check mle_retvals\n",
      "  warnings.warn(\"Maximum Likelihood optimization failed to \"\n",
      "/Users/sabinhashmi/miniconda3/envs/workbox/lib/python3.8/site-packages/statsmodels/base/model.py:607: ConvergenceWarning: Maximum Likelihood optimization failed to converge. Check mle_retvals\n",
      "  warnings.warn(\"Maximum Likelihood optimization failed to \"\n",
      "/Users/sabinhashmi/miniconda3/envs/workbox/lib/python3.8/site-packages/statsmodels/base/model.py:607: ConvergenceWarning: Maximum Likelihood optimization failed to converge. Check mle_retvals\n",
      "  warnings.warn(\"Maximum Likelihood optimization failed to \"\n",
      "/Users/sabinhashmi/miniconda3/envs/workbox/lib/python3.8/site-packages/statsmodels/base/model.py:607: ConvergenceWarning: Maximum Likelihood optimization failed to converge. Check mle_retvals\n",
      "  warnings.warn(\"Maximum Likelihood optimization failed to \"\n",
      "/Users/sabinhashmi/miniconda3/envs/workbox/lib/python3.8/site-packages/statsmodels/base/model.py:607: ConvergenceWarning: Maximum Likelihood optimization failed to converge. Check mle_retvals\n",
      "  warnings.warn(\"Maximum Likelihood optimization failed to \"\n",
      "/Users/sabinhashmi/miniconda3/envs/workbox/lib/python3.8/site-packages/statsmodels/base/model.py:607: ConvergenceWarning: Maximum Likelihood optimization failed to converge. Check mle_retvals\n",
      "  warnings.warn(\"Maximum Likelihood optimization failed to \"\n",
      "100%|██████████| 10/10 [00:13<00:00,  1.36s/it]\n",
      " 33%|███▎      | 5/15 [00:47<01:48, 10.85s/it]/Users/sabinhashmi/miniconda3/envs/workbox/lib/python3.8/site-packages/statsmodels/base/model.py:607: ConvergenceWarning: Maximum Likelihood optimization failed to converge. Check mle_retvals\n",
      "  warnings.warn(\"Maximum Likelihood optimization failed to \"\n",
      "/Users/sabinhashmi/miniconda3/envs/workbox/lib/python3.8/site-packages/statsmodels/base/model.py:607: ConvergenceWarning: Maximum Likelihood optimization failed to converge. Check mle_retvals\n",
      "  warnings.warn(\"Maximum Likelihood optimization failed to \"\n",
      "/Users/sabinhashmi/miniconda3/envs/workbox/lib/python3.8/site-packages/statsmodels/base/model.py:607: ConvergenceWarning: Maximum Likelihood optimization failed to converge. Check mle_retvals\n",
      "  warnings.warn(\"Maximum Likelihood optimization failed to \"\n",
      "/Users/sabinhashmi/miniconda3/envs/workbox/lib/python3.8/site-packages/statsmodels/base/model.py:607: ConvergenceWarning: Maximum Likelihood optimization failed to converge. Check mle_retvals\n",
      "  warnings.warn(\"Maximum Likelihood optimization failed to \"\n",
      "/Users/sabinhashmi/miniconda3/envs/workbox/lib/python3.8/site-packages/statsmodels/base/model.py:607: ConvergenceWarning: Maximum Likelihood optimization failed to converge. Check mle_retvals\n",
      "  warnings.warn(\"Maximum Likelihood optimization failed to \"\n",
      "/Users/sabinhashmi/miniconda3/envs/workbox/lib/python3.8/site-packages/statsmodels/base/model.py:607: ConvergenceWarning: Maximum Likelihood optimization failed to converge. Check mle_retvals\n",
      "  warnings.warn(\"Maximum Likelihood optimization failed to \"\n",
      "100%|██████████| 10/10 [00:19<00:00,  1.91s/it]\n",
      " 40%|████      | 6/15 [01:07<02:02, 13.66s/it]/Users/sabinhashmi/miniconda3/envs/workbox/lib/python3.8/site-packages/statsmodels/base/model.py:607: ConvergenceWarning: Maximum Likelihood optimization failed to converge. Check mle_retvals\n",
      "  warnings.warn(\"Maximum Likelihood optimization failed to \"\n",
      "/Users/sabinhashmi/miniconda3/envs/workbox/lib/python3.8/site-packages/statsmodels/base/model.py:607: ConvergenceWarning: Maximum Likelihood optimization failed to converge. Check mle_retvals\n",
      "  warnings.warn(\"Maximum Likelihood optimization failed to \"\n",
      "/Users/sabinhashmi/miniconda3/envs/workbox/lib/python3.8/site-packages/statsmodels/base/model.py:607: ConvergenceWarning: Maximum Likelihood optimization failed to converge. Check mle_retvals\n",
      "  warnings.warn(\"Maximum Likelihood optimization failed to \"\n",
      "/Users/sabinhashmi/miniconda3/envs/workbox/lib/python3.8/site-packages/statsmodels/base/model.py:607: ConvergenceWarning: Maximum Likelihood optimization failed to converge. Check mle_retvals\n",
      "  warnings.warn(\"Maximum Likelihood optimization failed to \"\n",
      "/Users/sabinhashmi/miniconda3/envs/workbox/lib/python3.8/site-packages/statsmodels/base/model.py:607: ConvergenceWarning: Maximum Likelihood optimization failed to converge. Check mle_retvals\n",
      "  warnings.warn(\"Maximum Likelihood optimization failed to \"\n",
      "/Users/sabinhashmi/miniconda3/envs/workbox/lib/python3.8/site-packages/statsmodels/base/model.py:607: ConvergenceWarning: Maximum Likelihood optimization failed to converge. Check mle_retvals\n",
      "  warnings.warn(\"Maximum Likelihood optimization failed to \"\n",
      "/Users/sabinhashmi/miniconda3/envs/workbox/lib/python3.8/site-packages/statsmodels/base/model.py:607: ConvergenceWarning: Maximum Likelihood optimization failed to converge. Check mle_retvals\n",
      "  warnings.warn(\"Maximum Likelihood optimization failed to \"\n",
      "100%|██████████| 10/10 [00:18<00:00,  1.87s/it]\n",
      " 47%|████▋     | 7/15 [01:25<02:02, 15.32s/it]/Users/sabinhashmi/miniconda3/envs/workbox/lib/python3.8/site-packages/statsmodels/base/model.py:607: ConvergenceWarning: Maximum Likelihood optimization failed to converge. Check mle_retvals\n",
      "  warnings.warn(\"Maximum Likelihood optimization failed to \"\n",
      "/Users/sabinhashmi/miniconda3/envs/workbox/lib/python3.8/site-packages/statsmodels/base/model.py:607: ConvergenceWarning: Maximum Likelihood optimization failed to converge. Check mle_retvals\n",
      "  warnings.warn(\"Maximum Likelihood optimization failed to \"\n",
      "/Users/sabinhashmi/miniconda3/envs/workbox/lib/python3.8/site-packages/statsmodels/base/model.py:607: ConvergenceWarning: Maximum Likelihood optimization failed to converge. Check mle_retvals\n",
      "  warnings.warn(\"Maximum Likelihood optimization failed to \"\n",
      "/Users/sabinhashmi/miniconda3/envs/workbox/lib/python3.8/site-packages/statsmodels/base/model.py:607: ConvergenceWarning: Maximum Likelihood optimization failed to converge. Check mle_retvals\n",
      "  warnings.warn(\"Maximum Likelihood optimization failed to \"\n",
      "/Users/sabinhashmi/miniconda3/envs/workbox/lib/python3.8/site-packages/statsmodels/base/model.py:607: ConvergenceWarning: Maximum Likelihood optimization failed to converge. Check mle_retvals\n",
      "  warnings.warn(\"Maximum Likelihood optimization failed to \"\n",
      "/Users/sabinhashmi/miniconda3/envs/workbox/lib/python3.8/site-packages/statsmodels/base/model.py:607: ConvergenceWarning: Maximum Likelihood optimization failed to converge. Check mle_retvals\n",
      "  warnings.warn(\"Maximum Likelihood optimization failed to \"\n",
      "/Users/sabinhashmi/miniconda3/envs/workbox/lib/python3.8/site-packages/statsmodels/base/model.py:607: ConvergenceWarning: Maximum Likelihood optimization failed to converge. Check mle_retvals\n",
      "  warnings.warn(\"Maximum Likelihood optimization failed to \"\n",
      "100%|██████████| 10/10 [00:20<00:00,  2.08s/it]\n",
      " 53%|█████▎    | 8/15 [01:46<01:59, 17.07s/it]/Users/sabinhashmi/miniconda3/envs/workbox/lib/python3.8/site-packages/statsmodels/base/model.py:607: ConvergenceWarning: Maximum Likelihood optimization failed to converge. Check mle_retvals\n",
      "  warnings.warn(\"Maximum Likelihood optimization failed to \"\n",
      "/Users/sabinhashmi/miniconda3/envs/workbox/lib/python3.8/site-packages/statsmodels/base/model.py:607: ConvergenceWarning: Maximum Likelihood optimization failed to converge. Check mle_retvals\n",
      "  warnings.warn(\"Maximum Likelihood optimization failed to \"\n",
      "/Users/sabinhashmi/miniconda3/envs/workbox/lib/python3.8/site-packages/statsmodels/base/model.py:607: ConvergenceWarning: Maximum Likelihood optimization failed to converge. Check mle_retvals\n",
      "  warnings.warn(\"Maximum Likelihood optimization failed to \"\n",
      "/Users/sabinhashmi/miniconda3/envs/workbox/lib/python3.8/site-packages/statsmodels/base/model.py:607: ConvergenceWarning: Maximum Likelihood optimization failed to converge. Check mle_retvals\n",
      "  warnings.warn(\"Maximum Likelihood optimization failed to \"\n",
      "/Users/sabinhashmi/miniconda3/envs/workbox/lib/python3.8/site-packages/statsmodels/base/model.py:607: ConvergenceWarning: Maximum Likelihood optimization failed to converge. Check mle_retvals\n",
      "  warnings.warn(\"Maximum Likelihood optimization failed to \"\n",
      "/Users/sabinhashmi/miniconda3/envs/workbox/lib/python3.8/site-packages/statsmodels/base/model.py:607: ConvergenceWarning: Maximum Likelihood optimization failed to converge. Check mle_retvals\n",
      "  warnings.warn(\"Maximum Likelihood optimization failed to \"\n",
      "/Users/sabinhashmi/miniconda3/envs/workbox/lib/python3.8/site-packages/statsmodels/base/model.py:607: ConvergenceWarning: Maximum Likelihood optimization failed to converge. Check mle_retvals\n",
      "  warnings.warn(\"Maximum Likelihood optimization failed to \"\n",
      "/Users/sabinhashmi/miniconda3/envs/workbox/lib/python3.8/site-packages/statsmodels/base/model.py:607: ConvergenceWarning: Maximum Likelihood optimization failed to converge. Check mle_retvals\n",
      "  warnings.warn(\"Maximum Likelihood optimization failed to \"\n",
      "/Users/sabinhashmi/miniconda3/envs/workbox/lib/python3.8/site-packages/statsmodels/base/model.py:607: ConvergenceWarning: Maximum Likelihood optimization failed to converge. Check mle_retvals\n",
      "  warnings.warn(\"Maximum Likelihood optimization failed to \"\n",
      "100%|██████████| 10/10 [00:18<00:00,  1.87s/it]\n",
      " 60%|██████    | 9/15 [02:05<01:45, 17.61s/it]/Users/sabinhashmi/miniconda3/envs/workbox/lib/python3.8/site-packages/statsmodels/base/model.py:607: ConvergenceWarning: Maximum Likelihood optimization failed to converge. Check mle_retvals\n",
      "  warnings.warn(\"Maximum Likelihood optimization failed to \"\n",
      "/Users/sabinhashmi/miniconda3/envs/workbox/lib/python3.8/site-packages/statsmodels/base/model.py:607: ConvergenceWarning: Maximum Likelihood optimization failed to converge. Check mle_retvals\n",
      "  warnings.warn(\"Maximum Likelihood optimization failed to \"\n",
      "/Users/sabinhashmi/miniconda3/envs/workbox/lib/python3.8/site-packages/statsmodels/base/model.py:607: ConvergenceWarning: Maximum Likelihood optimization failed to converge. Check mle_retvals\n",
      "  warnings.warn(\"Maximum Likelihood optimization failed to \"\n",
      "/Users/sabinhashmi/miniconda3/envs/workbox/lib/python3.8/site-packages/statsmodels/base/model.py:607: ConvergenceWarning: Maximum Likelihood optimization failed to converge. Check mle_retvals\n",
      "  warnings.warn(\"Maximum Likelihood optimization failed to \"\n",
      "/Users/sabinhashmi/miniconda3/envs/workbox/lib/python3.8/site-packages/statsmodels/base/model.py:607: ConvergenceWarning: Maximum Likelihood optimization failed to converge. Check mle_retvals\n",
      "  warnings.warn(\"Maximum Likelihood optimization failed to \"\n",
      "/Users/sabinhashmi/miniconda3/envs/workbox/lib/python3.8/site-packages/statsmodels/base/model.py:607: ConvergenceWarning: Maximum Likelihood optimization failed to converge. Check mle_retvals\n",
      "  warnings.warn(\"Maximum Likelihood optimization failed to \"\n",
      "/Users/sabinhashmi/miniconda3/envs/workbox/lib/python3.8/site-packages/statsmodels/base/model.py:607: ConvergenceWarning: Maximum Likelihood optimization failed to converge. Check mle_retvals\n",
      "  warnings.warn(\"Maximum Likelihood optimization failed to \"\n",
      "/Users/sabinhashmi/miniconda3/envs/workbox/lib/python3.8/site-packages/statsmodels/base/model.py:607: ConvergenceWarning: Maximum Likelihood optimization failed to converge. Check mle_retvals\n",
      "  warnings.warn(\"Maximum Likelihood optimization failed to \"\n",
      "100%|██████████| 10/10 [00:32<00:00,  3.29s/it]\n",
      " 67%|██████▋   | 10/15 [02:38<01:51, 22.33s/it]/Users/sabinhashmi/miniconda3/envs/workbox/lib/python3.8/site-packages/statsmodels/base/model.py:607: ConvergenceWarning: Maximum Likelihood optimization failed to converge. Check mle_retvals\n",
      "  warnings.warn(\"Maximum Likelihood optimization failed to \"\n",
      "/Users/sabinhashmi/miniconda3/envs/workbox/lib/python3.8/site-packages/statsmodels/base/model.py:607: ConvergenceWarning: Maximum Likelihood optimization failed to converge. Check mle_retvals\n",
      "  warnings.warn(\"Maximum Likelihood optimization failed to \"\n",
      "/Users/sabinhashmi/miniconda3/envs/workbox/lib/python3.8/site-packages/statsmodels/base/model.py:607: ConvergenceWarning: Maximum Likelihood optimization failed to converge. Check mle_retvals\n",
      "  warnings.warn(\"Maximum Likelihood optimization failed to \"\n",
      "/Users/sabinhashmi/miniconda3/envs/workbox/lib/python3.8/site-packages/statsmodels/base/model.py:607: ConvergenceWarning: Maximum Likelihood optimization failed to converge. Check mle_retvals\n",
      "  warnings.warn(\"Maximum Likelihood optimization failed to \"\n",
      "/Users/sabinhashmi/miniconda3/envs/workbox/lib/python3.8/site-packages/statsmodels/base/model.py:607: ConvergenceWarning: Maximum Likelihood optimization failed to converge. Check mle_retvals\n",
      "  warnings.warn(\"Maximum Likelihood optimization failed to \"\n",
      "/Users/sabinhashmi/miniconda3/envs/workbox/lib/python3.8/site-packages/statsmodels/base/model.py:607: ConvergenceWarning: Maximum Likelihood optimization failed to converge. Check mle_retvals\n",
      "  warnings.warn(\"Maximum Likelihood optimization failed to \"\n",
      "/Users/sabinhashmi/miniconda3/envs/workbox/lib/python3.8/site-packages/statsmodels/base/model.py:607: ConvergenceWarning: Maximum Likelihood optimization failed to converge. Check mle_retvals\n",
      "  warnings.warn(\"Maximum Likelihood optimization failed to \"\n",
      "/Users/sabinhashmi/miniconda3/envs/workbox/lib/python3.8/site-packages/statsmodels/base/model.py:607: ConvergenceWarning: Maximum Likelihood optimization failed to converge. Check mle_retvals\n",
      "  warnings.warn(\"Maximum Likelihood optimization failed to \"\n",
      "/Users/sabinhashmi/miniconda3/envs/workbox/lib/python3.8/site-packages/statsmodels/base/model.py:607: ConvergenceWarning: Maximum Likelihood optimization failed to converge. Check mle_retvals\n",
      "  warnings.warn(\"Maximum Likelihood optimization failed to \"\n",
      "100%|██████████| 10/10 [00:30<00:00,  3.02s/it]\n",
      " 73%|███████▎  | 11/15 [03:08<01:38, 24.75s/it]/Users/sabinhashmi/miniconda3/envs/workbox/lib/python3.8/site-packages/statsmodels/base/model.py:607: ConvergenceWarning: Maximum Likelihood optimization failed to converge. Check mle_retvals\n",
      "  warnings.warn(\"Maximum Likelihood optimization failed to \"\n",
      "/Users/sabinhashmi/miniconda3/envs/workbox/lib/python3.8/site-packages/statsmodels/base/model.py:607: ConvergenceWarning: Maximum Likelihood optimization failed to converge. Check mle_retvals\n",
      "  warnings.warn(\"Maximum Likelihood optimization failed to \"\n",
      "/Users/sabinhashmi/miniconda3/envs/workbox/lib/python3.8/site-packages/statsmodels/base/model.py:607: ConvergenceWarning: Maximum Likelihood optimization failed to converge. Check mle_retvals\n",
      "  warnings.warn(\"Maximum Likelihood optimization failed to \"\n",
      "/Users/sabinhashmi/miniconda3/envs/workbox/lib/python3.8/site-packages/statsmodels/base/model.py:607: ConvergenceWarning: Maximum Likelihood optimization failed to converge. Check mle_retvals\n",
      "  warnings.warn(\"Maximum Likelihood optimization failed to \"\n",
      "/Users/sabinhashmi/miniconda3/envs/workbox/lib/python3.8/site-packages/statsmodels/base/model.py:607: ConvergenceWarning: Maximum Likelihood optimization failed to converge. Check mle_retvals\n",
      "  warnings.warn(\"Maximum Likelihood optimization failed to \"\n",
      "/Users/sabinhashmi/miniconda3/envs/workbox/lib/python3.8/site-packages/statsmodels/base/model.py:607: ConvergenceWarning: Maximum Likelihood optimization failed to converge. Check mle_retvals\n",
      "  warnings.warn(\"Maximum Likelihood optimization failed to \"\n",
      "/Users/sabinhashmi/miniconda3/envs/workbox/lib/python3.8/site-packages/statsmodels/base/model.py:607: ConvergenceWarning: Maximum Likelihood optimization failed to converge. Check mle_retvals\n",
      "  warnings.warn(\"Maximum Likelihood optimization failed to \"\n",
      "/Users/sabinhashmi/miniconda3/envs/workbox/lib/python3.8/site-packages/statsmodels/base/model.py:607: ConvergenceWarning: Maximum Likelihood optimization failed to converge. Check mle_retvals\n",
      "  warnings.warn(\"Maximum Likelihood optimization failed to \"\n",
      "/Users/sabinhashmi/miniconda3/envs/workbox/lib/python3.8/site-packages/statsmodels/base/model.py:607: ConvergenceWarning: Maximum Likelihood optimization failed to converge. Check mle_retvals\n",
      "  warnings.warn(\"Maximum Likelihood optimization failed to \"\n",
      "100%|██████████| 10/10 [00:32<00:00,  3.23s/it]\n",
      " 80%|████████  | 12/15 [03:40<01:21, 27.04s/it]/Users/sabinhashmi/miniconda3/envs/workbox/lib/python3.8/site-packages/statsmodels/base/model.py:607: ConvergenceWarning: Maximum Likelihood optimization failed to converge. Check mle_retvals\n",
      "  warnings.warn(\"Maximum Likelihood optimization failed to \"\n",
      "/Users/sabinhashmi/miniconda3/envs/workbox/lib/python3.8/site-packages/statsmodels/base/model.py:607: ConvergenceWarning: Maximum Likelihood optimization failed to converge. Check mle_retvals\n",
      "  warnings.warn(\"Maximum Likelihood optimization failed to \"\n",
      "/Users/sabinhashmi/miniconda3/envs/workbox/lib/python3.8/site-packages/statsmodels/base/model.py:607: ConvergenceWarning: Maximum Likelihood optimization failed to converge. Check mle_retvals\n",
      "  warnings.warn(\"Maximum Likelihood optimization failed to \"\n",
      "/Users/sabinhashmi/miniconda3/envs/workbox/lib/python3.8/site-packages/statsmodels/base/model.py:607: ConvergenceWarning: Maximum Likelihood optimization failed to converge. Check mle_retvals\n",
      "  warnings.warn(\"Maximum Likelihood optimization failed to \"\n",
      "/Users/sabinhashmi/miniconda3/envs/workbox/lib/python3.8/site-packages/statsmodels/base/model.py:607: ConvergenceWarning: Maximum Likelihood optimization failed to converge. Check mle_retvals\n",
      "  warnings.warn(\"Maximum Likelihood optimization failed to \"\n",
      "/Users/sabinhashmi/miniconda3/envs/workbox/lib/python3.8/site-packages/statsmodels/base/model.py:607: ConvergenceWarning: Maximum Likelihood optimization failed to converge. Check mle_retvals\n",
      "  warnings.warn(\"Maximum Likelihood optimization failed to \"\n",
      "/Users/sabinhashmi/miniconda3/envs/workbox/lib/python3.8/site-packages/statsmodels/base/model.py:607: ConvergenceWarning: Maximum Likelihood optimization failed to converge. Check mle_retvals\n",
      "  warnings.warn(\"Maximum Likelihood optimization failed to \"\n",
      "/Users/sabinhashmi/miniconda3/envs/workbox/lib/python3.8/site-packages/statsmodels/base/model.py:607: ConvergenceWarning: Maximum Likelihood optimization failed to converge. Check mle_retvals\n",
      "  warnings.warn(\"Maximum Likelihood optimization failed to \"\n",
      "/Users/sabinhashmi/miniconda3/envs/workbox/lib/python3.8/site-packages/statsmodels/base/model.py:607: ConvergenceWarning: Maximum Likelihood optimization failed to converge. Check mle_retvals\n",
      "  warnings.warn(\"Maximum Likelihood optimization failed to \"\n",
      "100%|██████████| 10/10 [00:32<00:00,  3.28s/it]\n",
      " 87%|████████▋ | 13/15 [04:13<00:57, 28.79s/it]/Users/sabinhashmi/miniconda3/envs/workbox/lib/python3.8/site-packages/statsmodels/base/model.py:607: ConvergenceWarning: Maximum Likelihood optimization failed to converge. Check mle_retvals\n",
      "  warnings.warn(\"Maximum Likelihood optimization failed to \"\n",
      "/Users/sabinhashmi/miniconda3/envs/workbox/lib/python3.8/site-packages/statsmodels/base/model.py:607: ConvergenceWarning: Maximum Likelihood optimization failed to converge. Check mle_retvals\n",
      "  warnings.warn(\"Maximum Likelihood optimization failed to \"\n",
      "/Users/sabinhashmi/miniconda3/envs/workbox/lib/python3.8/site-packages/statsmodels/base/model.py:607: ConvergenceWarning: Maximum Likelihood optimization failed to converge. Check mle_retvals\n",
      "  warnings.warn(\"Maximum Likelihood optimization failed to \"\n",
      "/Users/sabinhashmi/miniconda3/envs/workbox/lib/python3.8/site-packages/statsmodels/base/model.py:607: ConvergenceWarning: Maximum Likelihood optimization failed to converge. Check mle_retvals\n",
      "  warnings.warn(\"Maximum Likelihood optimization failed to \"\n",
      "/Users/sabinhashmi/miniconda3/envs/workbox/lib/python3.8/site-packages/statsmodels/base/model.py:607: ConvergenceWarning: Maximum Likelihood optimization failed to converge. Check mle_retvals\n",
      "  warnings.warn(\"Maximum Likelihood optimization failed to \"\n",
      "/Users/sabinhashmi/miniconda3/envs/workbox/lib/python3.8/site-packages/statsmodels/base/model.py:607: ConvergenceWarning: Maximum Likelihood optimization failed to converge. Check mle_retvals\n",
      "  warnings.warn(\"Maximum Likelihood optimization failed to \"\n",
      "/Users/sabinhashmi/miniconda3/envs/workbox/lib/python3.8/site-packages/statsmodels/base/model.py:607: ConvergenceWarning: Maximum Likelihood optimization failed to converge. Check mle_retvals\n",
      "  warnings.warn(\"Maximum Likelihood optimization failed to \"\n",
      "/Users/sabinhashmi/miniconda3/envs/workbox/lib/python3.8/site-packages/statsmodels/base/model.py:607: ConvergenceWarning: Maximum Likelihood optimization failed to converge. Check mle_retvals\n",
      "  warnings.warn(\"Maximum Likelihood optimization failed to \"\n",
      "/Users/sabinhashmi/miniconda3/envs/workbox/lib/python3.8/site-packages/statsmodels/base/model.py:607: ConvergenceWarning: Maximum Likelihood optimization failed to converge. Check mle_retvals\n",
      "  warnings.warn(\"Maximum Likelihood optimization failed to \"\n",
      "100%|██████████| 10/10 [00:39<00:00,  3.96s/it]\n",
      " 93%|█████████▎| 14/15 [04:53<00:32, 32.06s/it]/Users/sabinhashmi/miniconda3/envs/workbox/lib/python3.8/site-packages/statsmodels/base/model.py:607: ConvergenceWarning: Maximum Likelihood optimization failed to converge. Check mle_retvals\n",
      "  warnings.warn(\"Maximum Likelihood optimization failed to \"\n",
      "/Users/sabinhashmi/miniconda3/envs/workbox/lib/python3.8/site-packages/statsmodels/base/model.py:607: ConvergenceWarning: Maximum Likelihood optimization failed to converge. Check mle_retvals\n",
      "  warnings.warn(\"Maximum Likelihood optimization failed to \"\n",
      "/Users/sabinhashmi/miniconda3/envs/workbox/lib/python3.8/site-packages/statsmodels/base/model.py:607: ConvergenceWarning: Maximum Likelihood optimization failed to converge. Check mle_retvals\n",
      "  warnings.warn(\"Maximum Likelihood optimization failed to \"\n",
      "/Users/sabinhashmi/miniconda3/envs/workbox/lib/python3.8/site-packages/statsmodels/base/model.py:607: ConvergenceWarning: Maximum Likelihood optimization failed to converge. Check mle_retvals\n",
      "  warnings.warn(\"Maximum Likelihood optimization failed to \"\n",
      "/Users/sabinhashmi/miniconda3/envs/workbox/lib/python3.8/site-packages/statsmodels/base/model.py:607: ConvergenceWarning: Maximum Likelihood optimization failed to converge. Check mle_retvals\n",
      "  warnings.warn(\"Maximum Likelihood optimization failed to \"\n",
      "/Users/sabinhashmi/miniconda3/envs/workbox/lib/python3.8/site-packages/statsmodels/base/model.py:607: ConvergenceWarning: Maximum Likelihood optimization failed to converge. Check mle_retvals\n",
      "  warnings.warn(\"Maximum Likelihood optimization failed to \"\n",
      "/Users/sabinhashmi/miniconda3/envs/workbox/lib/python3.8/site-packages/statsmodels/base/model.py:607: ConvergenceWarning: Maximum Likelihood optimization failed to converge. Check mle_retvals\n",
      "  warnings.warn(\"Maximum Likelihood optimization failed to \"\n",
      "/Users/sabinhashmi/miniconda3/envs/workbox/lib/python3.8/site-packages/statsmodels/base/model.py:607: ConvergenceWarning: Maximum Likelihood optimization failed to converge. Check mle_retvals\n",
      "  warnings.warn(\"Maximum Likelihood optimization failed to \"\n",
      "/Users/sabinhashmi/miniconda3/envs/workbox/lib/python3.8/site-packages/statsmodels/base/model.py:607: ConvergenceWarning: Maximum Likelihood optimization failed to converge. Check mle_retvals\n",
      "  warnings.warn(\"Maximum Likelihood optimization failed to \"\n",
      "100%|██████████| 10/10 [00:38<00:00,  3.85s/it]\n",
      "100%|██████████| 15/15 [05:31<00:00, 22.12s/it]\n"
     ]
    }
   ],
   "source": [
    "#Looping for the parameters.\n",
    "\n",
    "d=0\n",
    "loss=[]\n",
    "for p in tqdm(range(15)):\n",
    "    for q in range(10):\n",
    "\n",
    "        model = ARIMA(xTrain, order=(p,d,q))\n",
    "        model_fit = model.fit()\n",
    "\n",
    "        # Summary of the model\n",
    "        # print(model_fit.summary())\n",
    "        forecast = model_fit.forecast(steps=xTest.shape[0]) \n",
    "        # print(forecast)\n",
    "\n",
    "        loss_=np.sqrt(mean_squared_error(xTest,forecast))\n",
    "        loss.append((p, d, q, loss_))"
   ]
  },
  {
   "cell_type": "code",
   "execution_count": 18,
   "metadata": {},
   "outputs": [
    {
     "data": {
      "image/png": "[encoded data removed]",
      "text/plain": [
       "<Figure size 640x480 with 1 Axes>"
      ]
     },
     "metadata": {},
     "output_type": "display_data"
    }
   ],
   "source": [
    "lossData=pd.DataFrame(loss,columns=['p','d','q','loss'])\n",
    "lossData\n",
    "\n",
    "plt.title('ARIMA Training Loss')\n",
    "\n",
    "plt.plot(lossData['loss'], label='Loss')\n",
    "plt.xlabel('Epochs')\n",
    "plt.ylabel('Loss')\n",
    "plt.legend()\n",
    "plt.show()"
   ]
  },
  {
   "cell_type": "code",
   "execution_count": 19,
   "metadata": {},
   "outputs": [
    {
     "data": {
      "application/vnd.plotly.v1+json": {
       "config": {
        "plotlyServerURL": "https://plot.ly"
       },
       "data": [
        {
         "mode": "lines",
         "name": "Loss",
         "type": "scatter",
         "y": [
          0.0523035575113392,
          0.05235426971088934,
          0.05237493236115356,
          0.05240696673590061,
          0.052403424103181974,
          0.05245232163282397,
          0.052525625592274604,
          0.05255172534234334,
          0.052566855435664486,
          0.052578036588132614,
          0.0523444894593746,
          0.0523724697273013,
          0.052460021567113664,
          0.05241381761738058,
          0.05242846252365194,
          0.05249198567696708,
          0.052502143148441725,
          0.05260872426745457,
          0.052557438855435984,
          0.05255889081593444,
          0.052376493751450585,
          0.052392396036473374,
          0.05246124093055049,
          0.05246010880046151,
          0.05243481690811621,
          0.05261624820256444,
          0.05265719588103637,
          0.05267175442179816,
          0.05267436025961953,
          0.05295221879615558,
          0.05238323556218784,
          0.05238594249278222,
          0.05245319458317946,
          0.05272451224337431,
          0.052649357366634675,
          0.0524983947054899,
          0.0569139417534875,
          0.05444075867525204,
          0.05271396779671445,
          0.060060097680808916,
          0.05238954434688905,
          0.05238719013476648,
          0.053057378481204336,
          0.05319944262601271,
          0.05370013573335305,
          0.052512778531320074,
          0.05257568824107175,
          0.05651432833002571,
          0.05518579002933516,
          0.06017046923024059,
          0.05247988610121191,
          0.05247301750797734,
          0.05254286885334513,
          0.05269966996176847,
          0.052501382382626596,
          0.052761280278287415,
          0.05450028287451499,
          0.05281070253971107,
          0.052742606690443124,
          0.056845221387405775,
          0.05253904507106676,
          0.05253880372847045,
          0.05254606266660619,
          0.052515340112911424,
          0.052848625749023326,
          0.05415284179964194,
          0.05356853080365844,
          0.056819395408795194,
          0.052507122890113986,
          0.05837586702559882,
          0.05253447459526396,
          0.05253287300971804,
          0.052539383815387704,
          0.0532813140005625,
          0.053975679210939105,
          0.054126564571954736,
          0.054583895249569775,
          0.05912235877382836,
          0.05475189478224657,
          0.05631966998088119,
          0.05254149487712281,
          0.05253990159314281,
          0.05254112068562066,
          0.05327146630950067,
          0.05361771987451768,
          0.053424139978823955,
          0.05374519075007947,
          0.05866482521081303,
          0.057629509821428025,
          0.05636825181130581,
          0.05254505053642941,
          0.05254695343286403,
          0.05254944767005245,
          0.05315314999536688,
          0.05795251333784754,
          0.05710503857186311,
          0.05871654445046352,
          0.06076738796630388,
          0.05786230647130798,
          0.056114714825761206,
          0.052600031685761175,
          0.05327327248392298,
          0.05372361746031333,
          0.054081319127885864,
          0.05400452126546472,
          0.05407921606004052,
          0.053274336357966655,
          0.060156095125408676,
          0.05717773085973982,
          0.05714788251483622,
          0.05258716895891482,
          0.05364466653660666,
          0.05422890785724317,
          0.05424081926680325,
          0.05349842800490769,
          0.05345230472499655,
          0.05446607350936434,
          0.05969700315642749,
          0.055720723450373974,
          0.05535179711786105,
          0.05460830454771734,
          0.05477874255789893,
          0.05772884977996342,
          0.059759587517960316,
          0.05966701453175302,
          0.059763919984870836,
          0.058812159257392735,
          0.05418882219488517,
          0.05998314730111731,
          0.06055147258690808,
          0.05491718482035582,
          0.054964838299319245,
          0.05602448918305669,
          0.0593607256950056,
          0.05891456854610143,
          0.05860484365425833,
          0.05804389525049338,
          0.059079548373059274,
          0.05824526753967011,
          0.05996194452410766,
          0.05526271302339296,
          0.057003551570695275,
          0.056401770529027916,
          0.060075887286559694,
          0.06003294083254816,
          0.05892765078861626,
          0.054154919931062785,
          0.05964887739616954,
          0.05871737629135867,
          0.05911687507919022
         ]
        }
       ],
       "layout": {
        "template": {
         "data": {
          "bar": [
           {
            "error_x": {
             "color": "#2a3f5f"
            },
            "error_y": {
             "color": "#2a3f5f"
            },
            "marker": {
             "line": {
              "color": "#E5ECF6",
              "width": 0.5
             },
             "pattern": {
              "fillmode": "overlay",
              "size": 10,
              "solidity": 0.2
             }
            },
            "type": "bar"
           }
          ],
          "barpolar": [
           {
            "marker": {
             "line": {
              "color": "#E5ECF6",
              "width": 0.5
             },
             "pattern": {
              "fillmode": "overlay",
              "size": 10,
              "solidity": 0.2
             }
            },
            "type": "barpolar"
           }
          ],
          "carpet": [
           {
            "aaxis": {
             "endlinecolor": "#2a3f5f",
             "gridcolor": "white",
             "linecolor": "white",
             "minorgridcolor": "white",
             "startlinecolor": "#2a3f5f"
            },
            "baxis": {
             "endlinecolor": "#2a3f5f",
             "gridcolor": "white",
             "linecolor": "white",
             "minorgridcolor": "white",
             "startlinecolor": "#2a3f5f"
            },
            "type": "carpet"
           }
          ],
          "choropleth": [
           {
            "colorbar": {
             "outlinewidth": 0,
             "ticks": ""
            },
            "type": "choropleth"
           }
          ],
          "contour": [
           {
            "colorbar": {
             "outlinewidth": 0,
             "ticks": ""
            },
            "colorscale": [
             [
              0,
              "#0d0887"
             ],
             [
              0.1111111111111111,
              "#46039f"
             ],
             [
              0.2222222222222222,
              "#7201a8"
             ],
             [
              0.3333333333333333,
              "#9c179e"
             ],
             [
              0.4444444444444444,
              "#bd3786"
             ],
             [
              0.5555555555555556,
              "#d8576b"
             ],
             [
              0.6666666666666666,
              "#ed7953"
             ],
             [
              0.7777777777777778,
              "#fb9f3a"
             ],
             [
              0.8888888888888888,
              "#fdca26"
             ],
             [
              1,
              "#f0f921"
             ]
            ],
            "type": "contour"
           }
          ],
          "contourcarpet": [
           {
            "colorbar": {
             "outlinewidth": 0,
             "ticks": ""
            },
            "type": "contourcarpet"
           }
          ],
          "heatmap": [
           {
            "colorbar": {
             "outlinewidth": 0,
             "ticks": ""
            },
            "colorscale": [
             [
              0,
              "#0d0887"
             ],
             [
              0.1111111111111111,
              "#46039f"
             ],
             [
              0.2222222222222222,
              "#7201a8"
             ],
             [
              0.3333333333333333,
              "#9c179e"
             ],
             [
              0.4444444444444444,
              "#bd3786"
             ],
             [
              0.5555555555555556,
              "#d8576b"
             ],
             [
              0.6666666666666666,
              "#ed7953"
             ],
             [
              0.7777777777777778,
              "#fb9f3a"
             ],
             [
              0.8888888888888888,
              "#fdca26"
             ],
             [
              1,
              "#f0f921"
             ]
            ],
            "type": "heatmap"
           }
          ],
          "heatmapgl": [
           {
            "colorbar": {
             "outlinewidth": 0,
             "ticks": ""
            },
            "colorscale": [
             [
              0,
              "#0d0887"
             ],
             [
              0.1111111111111111,
              "#46039f"
             ],
             [
              0.2222222222222222,
              "#7201a8"
             ],
             [
              0.3333333333333333,
              "#9c179e"
             ],
             [
              0.4444444444444444,
              "#bd3786"
             ],
             [
              0.5555555555555556,
              "#d8576b"
             ],
             [
              0.6666666666666666,
              "#ed7953"
             ],
             [
              0.7777777777777778,
              "#fb9f3a"
             ],
             [
              0.8888888888888888,
              "#fdca26"
             ],
             [
              1,
              "#f0f921"
             ]
            ],
            "type": "heatmapgl"
           }
          ],
          "histogram": [
           {
            "marker": {
             "pattern": {
              "fillmode": "overlay",
              "size": 10,
              "solidity": 0.2
             }
            },
            "type": "histogram"
           }
          ],
          "histogram2d": [
           {
            "colorbar": {
             "outlinewidth": 0,
             "ticks": ""
            },
            "colorscale": [
             [
              0,
              "#0d0887"
             ],
             [
              0.1111111111111111,
              "#46039f"
             ],
             [
              0.2222222222222222,
              "#7201a8"
             ],
             [
              0.3333333333333333,
              "#9c179e"
             ],
             [
              0.4444444444444444,
              "#bd3786"
             ],
             [
              0.5555555555555556,
              "#d8576b"
             ],
             [
              0.6666666666666666,
              "#ed7953"
             ],
             [
              0.7777777777777778,
              "#fb9f3a"
             ],
             [
              0.8888888888888888,
              "#fdca26"
             ],
             [
              1,
              "#f0f921"
             ]
            ],
            "type": "histogram2d"
           }
          ],
          "histogram2dcontour": [
           {
            "colorbar": {
             "outlinewidth": 0,
             "ticks": ""
            },
            "colorscale": [
             [
              0,
              "#0d0887"
             ],
             [
              0.1111111111111111,
              "#46039f"
             ],
             [
              0.2222222222222222,
              "#7201a8"
             ],
             [
              0.3333333333333333,
              "#9c179e"
             ],
             [
              0.4444444444444444,
              "#bd3786"
             ],
             [
              0.5555555555555556,
              "#d8576b"
             ],
             [
              0.6666666666666666,
              "#ed7953"
             ],
             [
              0.7777777777777778,
              "#fb9f3a"
             ],
             [
              0.8888888888888888,
              "#fdca26"
             ],
             [
              1,
              "#f0f921"
             ]
            ],
            "type": "histogram2dcontour"
           }
          ],
          "mesh3d": [
           {
            "colorbar": {
             "outlinewidth": 0,
             "ticks": ""
            },
            "type": "mesh3d"
           }
          ],
          "parcoords": [
           {
            "line": {
             "colorbar": {
              "outlinewidth": 0,
              "ticks": ""
             }
            },
            "type": "parcoords"
           }
          ],
          "pie": [
           {
            "automargin": true,
            "type": "pie"
           }
          ],
          "scatter": [
           {
            "fillpattern": {
             "fillmode": "overlay",
             "size": 10,
             "solidity": 0.2
            },
            "type": "scatter"
           }
          ],
          "scatter3d": [
           {
            "line": {
             "colorbar": {
              "outlinewidth": 0,
              "ticks": ""
             }
            },
            "marker": {
             "colorbar": {
              "outlinewidth": 0,
              "ticks": ""
             }
            },
            "type": "scatter3d"
           }
          ],
          "scattercarpet": [
           {
            "marker": {
             "colorbar": {
              "outlinewidth": 0,
              "ticks": ""
             }
            },
            "type": "scattercarpet"
           }
          ],
          "scattergeo": [
           {
            "marker": {
             "colorbar": {
              "outlinewidth": 0,
              "ticks": ""
             }
            },
            "type": "scattergeo"
           }
          ],
          "scattergl": [
           {
            "marker": {
             "colorbar": {
              "outlinewidth": 0,
              "ticks": ""
             }
            },
            "type": "scattergl"
           }
          ],
          "scattermapbox": [
           {
            "marker": {
             "colorbar": {
              "outlinewidth": 0,
              "ticks": ""
             }
            },
            "type": "scattermapbox"
           }
          ],
          "scatterpolar": [
           {
            "marker": {
             "colorbar": {
              "outlinewidth": 0,
              "ticks": ""
             }
            },
            "type": "scatterpolar"
           }
          ],
          "scatterpolargl": [
           {
            "marker": {
             "colorbar": {
              "outlinewidth": 0,
              "ticks": ""
             }
            },
            "type": "scatterpolargl"
           }
          ],
          "scatterternary": [
           {
            "marker": {
             "colorbar": {
              "outlinewidth": 0,
              "ticks": ""
             }
            },
            "type": "scatterternary"
           }
          ],
          "surface": [
           {
            "colorbar": {
             "outlinewidth": 0,
             "ticks": ""
            },
            "colorscale": [
             [
              0,
              "#0d0887"
             ],
             [
              0.1111111111111111,
              "#46039f"
             ],
             [
              0.2222222222222222,
              "#7201a8"
             ],
             [
              0.3333333333333333,
              "#9c179e"
             ],
             [
              0.4444444444444444,
              "#bd3786"
             ],
             [
              0.5555555555555556,
              "#d8576b"
             ],
             [
              0.6666666666666666,
              "#ed7953"
             ],
             [
              0.7777777777777778,
              "#fb9f3a"
             ],
             [
              0.8888888888888888,
              "#fdca26"
             ],
             [
              1,
              "#f0f921"
             ]
            ],
            "type": "surface"
           }
          ],
          "table": [
           {
            "cells": {
             "fill": {
              "color": "#EBF0F8"
             },
             "line": {
              "color": "white"
             }
            },
            "header": {
             "fill": {
              "color": "#C8D4E3"
             },
             "line": {
              "color": "white"
             }
            },
            "type": "table"
           }
          ]
         },
         "layout": {
          "annotationdefaults": {
           "arrowcolor": "#2a3f5f",
           "arrowhead": 0,
           "arrowwidth": 1
          },
          "autotypenumbers": "strict",
          "coloraxis": {
           "colorbar": {
            "outlinewidth": 0,
            "ticks": ""
           }
          },
          "colorscale": {
           "diverging": [
            [
             0,
             "#8e0152"
            ],
            [
             0.1,
             "#c51b7d"
            ],
            [
             0.2,
             "#de77ae"
            ],
            [
             0.3,
             "#f1b6da"
            ],
            [
             0.4,
             "#fde0ef"
            ],
            [
             0.5,
             "#f7f7f7"
            ],
            [
             0.6,
             "#e6f5d0"
            ],
            [
             0.7,
             "#b8e186"
            ],
            [
             0.8,
             "#7fbc41"
            ],
            [
             0.9,
             "#4d9221"
            ],
            [
             1,
             "#276419"
            ]
           ],
           "sequential": [
            [
             0,
             "#0d0887"
            ],
            [
             0.1111111111111111,
             "#46039f"
            ],
            [
             0.2222222222222222,
             "#7201a8"
            ],
            [
             0.3333333333333333,
             "#9c179e"
            ],
            [
             0.4444444444444444,
             "#bd3786"
            ],
            [
             0.5555555555555556,
             "#d8576b"
            ],
            [
             0.6666666666666666,
             "#ed7953"
            ],
            [
             0.7777777777777778,
             "#fb9f3a"
            ],
            [
             0.8888888888888888,
             "#fdca26"
            ],
            [
             1,
             "#f0f921"
            ]
           ],
           "sequentialminus": [
            [
             0,
             "#0d0887"
            ],
            [
             0.1111111111111111,
             "#46039f"
            ],
            [
             0.2222222222222222,
             "#7201a8"
            ],
            [
             0.3333333333333333,
             "#9c179e"
            ],
            [
             0.4444444444444444,
             "#bd3786"
            ],
            [
             0.5555555555555556,
             "#d8576b"
            ],
            [
             0.6666666666666666,
             "#ed7953"
            ],
            [
             0.7777777777777778,
             "#fb9f3a"
            ],
            [
             0.8888888888888888,
             "#fdca26"
            ],
            [
             1,
             "#f0f921"
            ]
           ]
          },
          "colorway": [
           "#636efa",
           "#EF553B",
           "#00cc96",
           "#ab63fa",
           "#FFA15A",
           "#19d3f3",
           "#FF6692",
           "#B6E880",
           "#FF97FF",
           "#FECB52"
          ],
          "font": {
           "color": "#2a3f5f"
          },
          "geo": {
           "bgcolor": "white",
           "lakecolor": "white",
           "landcolor": "#E5ECF6",
           "showlakes": true,
           "showland": true,
           "subunitcolor": "white"
          },
          "hoverlabel": {
           "align": "left"
          },
          "hovermode": "closest",
          "mapbox": {
           "style": "light"
          },
          "paper_bgcolor": "white",
          "plot_bgcolor": "#E5ECF6",
          "polar": {
           "angularaxis": {
            "gridcolor": "white",
            "linecolor": "white",
            "ticks": ""
           },
           "bgcolor": "#E5ECF6",
           "radialaxis": {
            "gridcolor": "white",
            "linecolor": "white",
            "ticks": ""
           }
          },
          "scene": {
           "xaxis": {
            "backgroundcolor": "#E5ECF6",
            "gridcolor": "white",
            "gridwidth": 2,
            "linecolor": "white",
            "showbackground": true,
            "ticks": "",
            "zerolinecolor": "white"
           },
           "yaxis": {
            "backgroundcolor": "#E5ECF6",
            "gridcolor": "white",
            "gridwidth": 2,
            "linecolor": "white",
            "showbackground": true,
            "ticks": "",
            "zerolinecolor": "white"
           },
           "zaxis": {
            "backgroundcolor": "#E5ECF6",
            "gridcolor": "white",
            "gridwidth": 2,
            "linecolor": "white",
            "showbackground": true,
            "ticks": "",
            "zerolinecolor": "white"
           }
          },
          "shapedefaults": {
           "line": {
            "color": "#2a3f5f"
           }
          },
          "ternary": {
           "aaxis": {
            "gridcolor": "white",
            "linecolor": "white",
            "ticks": ""
           },
           "baxis": {
            "gridcolor": "white",
            "linecolor": "white",
            "ticks": ""
           },
           "bgcolor": "#E5ECF6",
           "caxis": {
            "gridcolor": "white",
            "linecolor": "white",
            "ticks": ""
           }
          },
          "title": {
           "x": 0.05
          },
          "xaxis": {
           "automargin": true,
           "gridcolor": "white",
           "linecolor": "white",
           "ticks": "",
           "title": {
            "standoff": 15
           },
           "zerolinecolor": "white",
           "zerolinewidth": 2
          },
          "yaxis": {
           "automargin": true,
           "gridcolor": "white",
           "linecolor": "white",
           "ticks": "",
           "title": {
            "standoff": 15
           },
           "zerolinecolor": "white",
           "zerolinewidth": 2
          }
         }
        },
        "title": {
         "text": "Model Loss Over Time"
        },
        "xaxis": {
         "title": {
          "text": "Epoch"
         }
        },
        "yaxis": {
         "title": {
          "text": "Loss"
         }
        }
       }
      }
     },
     "metadata": {},
     "output_type": "display_data"
    }
   ],
   "source": [
    "# Create an interactive plot\n",
    "fig = go.Figure()\n",
    "\n",
    "fig.add_trace(go.Scatter(\n",
    "    y=lossData['loss'],\n",
    "    mode='lines',\n",
    "    name='Loss'\n",
    "))\n",
    "\n",
    "fig.update_layout(\n",
    "    title='Model Loss Over Time',\n",
    "    xaxis_title='Epoch',\n",
    "    yaxis_title='Loss'\n",
    ")\n",
    "\n",
    "# Show the plot\n",
    "fig.show()\n"
   ]
  },
  {
   "cell_type": "code",
   "execution_count": 20,
   "metadata": {},
   "outputs": [
    {
     "data": {
      "text/html": [
       "<div>\n",
       "<style scoped>\n",
       "    .dataframe tbody tr th:only-of-type {\n",
       "        vertical-align: middle;\n",
       "    }\n",
       "\n",
       "    .dataframe tbody tr th {\n",
       "        vertical-align: top;\n",
       "    }\n",
       "\n",
       "    .dataframe thead th {\n",
       "        text-align: right;\n",
       "    }\n",
       "</style>\n",
       "<table border=\"1\" class=\"dataframe\">\n",
       "  <thead>\n",
       "    <tr style=\"text-align: right;\">\n",
       "      <th></th>\n",
       "      <th>p</th>\n",
       "      <th>d</th>\n",
       "      <th>q</th>\n",
       "      <th>loss</th>\n",
       "    </tr>\n",
       "  </thead>\n",
       "  <tbody>\n",
       "    <tr>\n",
       "      <th>0</th>\n",
       "      <td>0</td>\n",
       "      <td>0</td>\n",
       "      <td>0</td>\n",
       "      <td>0.052304</td>\n",
       "    </tr>\n",
       "    <tr>\n",
       "      <th>10</th>\n",
       "      <td>1</td>\n",
       "      <td>0</td>\n",
       "      <td>0</td>\n",
       "      <td>0.052344</td>\n",
       "    </tr>\n",
       "    <tr>\n",
       "      <th>1</th>\n",
       "      <td>0</td>\n",
       "      <td>0</td>\n",
       "      <td>1</td>\n",
       "      <td>0.052354</td>\n",
       "    </tr>\n",
       "    <tr>\n",
       "      <th>11</th>\n",
       "      <td>1</td>\n",
       "      <td>0</td>\n",
       "      <td>1</td>\n",
       "      <td>0.052372</td>\n",
       "    </tr>\n",
       "    <tr>\n",
       "      <th>2</th>\n",
       "      <td>0</td>\n",
       "      <td>0</td>\n",
       "      <td>2</td>\n",
       "      <td>0.052375</td>\n",
       "    </tr>\n",
       "    <tr>\n",
       "      <th>20</th>\n",
       "      <td>2</td>\n",
       "      <td>0</td>\n",
       "      <td>0</td>\n",
       "      <td>0.052376</td>\n",
       "    </tr>\n",
       "    <tr>\n",
       "      <th>30</th>\n",
       "      <td>3</td>\n",
       "      <td>0</td>\n",
       "      <td>0</td>\n",
       "      <td>0.052383</td>\n",
       "    </tr>\n",
       "    <tr>\n",
       "      <th>31</th>\n",
       "      <td>3</td>\n",
       "      <td>0</td>\n",
       "      <td>1</td>\n",
       "      <td>0.052386</td>\n",
       "    </tr>\n",
       "    <tr>\n",
       "      <th>41</th>\n",
       "      <td>4</td>\n",
       "      <td>0</td>\n",
       "      <td>1</td>\n",
       "      <td>0.052387</td>\n",
       "    </tr>\n",
       "    <tr>\n",
       "      <th>40</th>\n",
       "      <td>4</td>\n",
       "      <td>0</td>\n",
       "      <td>0</td>\n",
       "      <td>0.052390</td>\n",
       "    </tr>\n",
       "    <tr>\n",
       "      <th>21</th>\n",
       "      <td>2</td>\n",
       "      <td>0</td>\n",
       "      <td>1</td>\n",
       "      <td>0.052392</td>\n",
       "    </tr>\n",
       "    <tr>\n",
       "      <th>4</th>\n",
       "      <td>0</td>\n",
       "      <td>0</td>\n",
       "      <td>4</td>\n",
       "      <td>0.052403</td>\n",
       "    </tr>\n",
       "    <tr>\n",
       "      <th>3</th>\n",
       "      <td>0</td>\n",
       "      <td>0</td>\n",
       "      <td>3</td>\n",
       "      <td>0.052407</td>\n",
       "    </tr>\n",
       "    <tr>\n",
       "      <th>13</th>\n",
       "      <td>1</td>\n",
       "      <td>0</td>\n",
       "      <td>3</td>\n",
       "      <td>0.052414</td>\n",
       "    </tr>\n",
       "    <tr>\n",
       "      <th>14</th>\n",
       "      <td>1</td>\n",
       "      <td>0</td>\n",
       "      <td>4</td>\n",
       "      <td>0.052428</td>\n",
       "    </tr>\n",
       "    <tr>\n",
       "      <th>24</th>\n",
       "      <td>2</td>\n",
       "      <td>0</td>\n",
       "      <td>4</td>\n",
       "      <td>0.052435</td>\n",
       "    </tr>\n",
       "    <tr>\n",
       "      <th>5</th>\n",
       "      <td>0</td>\n",
       "      <td>0</td>\n",
       "      <td>5</td>\n",
       "      <td>0.052452</td>\n",
       "    </tr>\n",
       "    <tr>\n",
       "      <th>32</th>\n",
       "      <td>3</td>\n",
       "      <td>0</td>\n",
       "      <td>2</td>\n",
       "      <td>0.052453</td>\n",
       "    </tr>\n",
       "    <tr>\n",
       "      <th>12</th>\n",
       "      <td>1</td>\n",
       "      <td>0</td>\n",
       "      <td>2</td>\n",
       "      <td>0.052460</td>\n",
       "    </tr>\n",
       "    <tr>\n",
       "      <th>23</th>\n",
       "      <td>2</td>\n",
       "      <td>0</td>\n",
       "      <td>3</td>\n",
       "      <td>0.052460</td>\n",
       "    </tr>\n",
       "  </tbody>\n",
       "</table>\n",
       "</div>"
      ],
      "text/plain": [
       "    p  d  q      loss\n",
       "0   0  0  0  0.052304\n",
       "10  1  0  0  0.052344\n",
       "1   0  0  1  0.052354\n",
       "11  1  0  1  0.052372\n",
       "2   0  0  2  0.052375\n",
       "20  2  0  0  0.052376\n",
       "30  3  0  0  0.052383\n",
       "31  3  0  1  0.052386\n",
       "41  4  0  1  0.052387\n",
       "40  4  0  0  0.052390\n",
       "21  2  0  1  0.052392\n",
       "4   0  0  4  0.052403\n",
       "3   0  0  3  0.052407\n",
       "13  1  0  3  0.052414\n",
       "14  1  0  4  0.052428\n",
       "24  2  0  4  0.052435\n",
       "5   0  0  5  0.052452\n",
       "32  3  0  2  0.052453\n",
       "12  1  0  2  0.052460\n",
       "23  2  0  3  0.052460"
      ]
     },
     "execution_count": 20,
     "metadata": {},
     "output_type": "execute_result"
    }
   ],
   "source": [
    "lossData.sort_values(by='loss').head(20)"
   ]
  },
  {
   "cell_type": "code",
   "execution_count": 21,
   "metadata": {},
   "outputs": [
    {
     "name": "stderr",
     "output_type": "stream",
     "text": [
      "/Users/sabinhashmi/miniconda3/envs/workbox/lib/python3.8/site-packages/statsmodels/base/model.py:607: ConvergenceWarning:\n",
      "\n",
      "Maximum Likelihood optimization failed to converge. Check mle_retvals\n",
      "\n"
     ]
    },
    {
     "data": {
      "image/png": "[encoded data removed]",
      "text/plain": [
       "<Figure size 640x480 with 1 Axes>"
      ]
     },
     "metadata": {},
     "output_type": "display_data"
    }
   ],
   "source": [
    "model = ARIMA(xTrain, order=(10,0,5))  # Example order, typically chosen through model selection criteria\n",
    "model_fit = model.fit()\n",
    "\n",
    "# Summary of the model\n",
    "# print(model_fit.summary())\n",
    "forecast = model_fit.forecast(steps=xTest.shape[0])  # Forecasting next 12 periods (1 year)\n",
    "# print(forecast)\n",
    "\n",
    "plt.plot(xTrain,label='Training Data')\n",
    "plt.plot(xTest,label = 'Test Data')\n",
    "plt.plot(forecast, label = 'Forecast')\n",
    "plt.legend()\n",
    "plt.title('Pedestal Forecast using ARIMA')\n",
    "\n",
    "plt.show()\n"
   ]
  },
  {
   "cell_type": "code",
   "execution_count": null,
   "metadata": {},
   "outputs": [],
   "source": []
  }
 ],
 "metadata": {
  "kernelspec": {
   "display_name": "workbox",
   "language": "python",
   "name": "python3"
  },
  "language_info": {
   "codemirror_mode": {
    "name": "ipython",
    "version": 3
   },
   "file_extension": ".py",
   "mimetype": "text/x-python",
   "name": "python",
   "nbconvert_exporter": "python",
   "pygments_lexer": "ipython3",
   "version": "3.8.20"
  }
 },
 "nbformat": 4,
 "nbformat_minor": 2
}
