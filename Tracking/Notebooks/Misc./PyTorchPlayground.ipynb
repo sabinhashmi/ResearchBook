{
 "cells": [
  {
   "cell_type": "code",
   "execution_count": 1,
   "metadata": {},
   "outputs": [],
   "source": [
    "import numpy as np\n",
    "import pandas as pd\n",
    "import matplotlib.pyplot as plt\n",
    "import seaborn as sns\n",
    "\n",
    "from sklearn.model_selection import train_test_split\n",
    "\n",
    "from sklearn.metrics import roc_auc_score,f1_score,confusion_matrix\n",
    "\n",
    "from sklearn.preprocessing import MinMaxScaler\n",
    "scaler = MinMaxScaler()\n",
    "\n",
    "from imblearn.under_sampling import RandomUnderSampler\n",
    "from imblearn.combine import SMOTETomek, SMOTEENN\n",
    "from imblearn.over_sampling import SMOTE\n",
    "\n",
    "# sampler=SMOTETomek(random_state=40)\n",
    "sampler=SMOTEENN(random_state=40)\n",
    "# sampler=SMOTE(random_state=40)\n",
    "# sampler=RandomUnderSampler(random_state=40)\n",
    "import torch\n",
    "import torch.nn as nn\n",
    "import torch.optim as optim\n",
    "from torch.utils.data import DataLoader, TensorDataset\n",
    "\n",
    "\n",
    "\n",
    "\n",
    "%matplotlib inline\n",
    "\n",
    "np.random.seed(40)\n",
    "sns.set_palette(\"Set1\")\n",
    "\n",
    "import warnings\n",
    "warnings.filterwarnings('ignore')\n"
   ]
  },
  {
   "cell_type": "code",
   "execution_count": 2,
   "metadata": {},
   "outputs": [],
   "source": [
    "#Calling the input file and shuffling the dataset\n",
    "data=data = pd.read_parquet('./DownstreamTrackTrainingData.parquet').sample(frac=0.1,random_state=51)"
   ]
  },
  {
   "cell_type": "code",
   "execution_count": 3,
   "metadata": {},
   "outputs": [
    {
     "name": "stdout",
     "output_type": "stream",
     "text": [
      "Dimension of the Data is :  (952797, 11)\n"
     ]
    },
    {
     "data": {
      "text/html": [
       "<div>\n",
       "<style scoped>\n",
       "    .dataframe tbody tr th:only-of-type {\n",
       "        vertical-align: middle;\n",
       "    }\n",
       "\n",
       "    .dataframe tbody tr th {\n",
       "        vertical-align: top;\n",
       "    }\n",
       "\n",
       "    .dataframe thead th {\n",
       "        text-align: right;\n",
       "    }\n",
       "</style>\n",
       "<table border=\"1\" class=\"dataframe\">\n",
       "  <thead>\n",
       "    <tr style=\"text-align: right;\">\n",
       "      <th></th>\n",
       "      <th>p</th>\n",
       "      <th>pt</th>\n",
       "      <th>tx</th>\n",
       "      <th>ty</th>\n",
       "      <th>ovtx_x</th>\n",
       "      <th>ovtx_y</th>\n",
       "      <th>eta</th>\n",
       "      <th>phi</th>\n",
       "      <th>nUTHits</th>\n",
       "      <th>chi2perdof</th>\n",
       "      <th>isMatched</th>\n",
       "    </tr>\n",
       "  </thead>\n",
       "  <tbody>\n",
       "    <tr>\n",
       "      <th>4447482</th>\n",
       "      <td>2010.122199</td>\n",
       "      <td>195.921727</td>\n",
       "      <td>0.082882</td>\n",
       "      <td>-0.052169</td>\n",
       "      <td>221.930923</td>\n",
       "      <td>-141.968475</td>\n",
       "      <td>3.018999</td>\n",
       "      <td>-0.561786</td>\n",
       "      <td>4</td>\n",
       "      <td>0.196032</td>\n",
       "      <td>True</td>\n",
       "    </tr>\n",
       "    <tr>\n",
       "      <th>5400797</th>\n",
       "      <td>1926.463177</td>\n",
       "      <td>332.033344</td>\n",
       "      <td>-0.156864</td>\n",
       "      <td>0.077518</td>\n",
       "      <td>-399.020325</td>\n",
       "      <td>139.489792</td>\n",
       "      <td>2.443842</td>\n",
       "      <td>2.682616</td>\n",
       "      <td>4</td>\n",
       "      <td>0.791338</td>\n",
       "      <td>False</td>\n",
       "    </tr>\n",
       "    <tr>\n",
       "      <th>7803164</th>\n",
       "      <td>7839.076490</td>\n",
       "      <td>632.053824</td>\n",
       "      <td>-0.049382</td>\n",
       "      <td>0.064070</td>\n",
       "      <td>-120.443192</td>\n",
       "      <td>150.608292</td>\n",
       "      <td>3.209420</td>\n",
       "      <td>2.227446</td>\n",
       "      <td>4</td>\n",
       "      <td>0.116673</td>\n",
       "      <td>True</td>\n",
       "    </tr>\n",
       "    <tr>\n",
       "      <th>3062152</th>\n",
       "      <td>8197.870904</td>\n",
       "      <td>1377.713575</td>\n",
       "      <td>0.135591</td>\n",
       "      <td>0.103341</td>\n",
       "      <td>329.119171</td>\n",
       "      <td>247.356827</td>\n",
       "      <td>2.469460</td>\n",
       "      <td>0.651231</td>\n",
       "      <td>4</td>\n",
       "      <td>0.362098</td>\n",
       "      <td>True</td>\n",
       "    </tr>\n",
       "    <tr>\n",
       "      <th>2880571</th>\n",
       "      <td>3616.003058</td>\n",
       "      <td>95.474382</td>\n",
       "      <td>-0.012730</td>\n",
       "      <td>-0.023142</td>\n",
       "      <td>52.098373</td>\n",
       "      <td>-52.672470</td>\n",
       "      <td>4.327239</td>\n",
       "      <td>-2.073683</td>\n",
       "      <td>4</td>\n",
       "      <td>0.577410</td>\n",
       "      <td>False</td>\n",
       "    </tr>\n",
       "  </tbody>\n",
       "</table>\n",
       "</div>"
      ],
      "text/plain": [
       "                   p           pt        tx        ty      ovtx_x      ovtx_y  \\\n",
       "4447482  2010.122199   195.921727  0.082882 -0.052169  221.930923 -141.968475   \n",
       "5400797  1926.463177   332.033344 -0.156864  0.077518 -399.020325  139.489792   \n",
       "7803164  7839.076490   632.053824 -0.049382  0.064070 -120.443192  150.608292   \n",
       "3062152  8197.870904  1377.713575  0.135591  0.103341  329.119171  247.356827   \n",
       "2880571  3616.003058    95.474382 -0.012730 -0.023142   52.098373  -52.672470   \n",
       "\n",
       "              eta       phi  nUTHits  chi2perdof  isMatched  \n",
       "4447482  3.018999 -0.561786        4    0.196032       True  \n",
       "5400797  2.443842  2.682616        4    0.791338      False  \n",
       "7803164  3.209420  2.227446        4    0.116673       True  \n",
       "3062152  2.469460  0.651231        4    0.362098       True  \n",
       "2880571  4.327239 -2.073683        4    0.577410      False  "
      ]
     },
     "metadata": {},
     "output_type": "display_data"
    }
   ],
   "source": [
    "x=data.drop(['isMatched'],axis=1)\n",
    "y=data['isMatched']\n",
    "\n",
    "columns=np.array(['P','Pt','Tx','Ty', 'X','Y','Eta','Phi','nUTHits','Chi2PerDoF'])\n",
    "x.columns=columns\n",
    "\n",
    "#Training Data\n",
    "print(f\"Dimension of the Data is : \",data.shape)\n",
    "display(data.head())\n"
   ]
  },
  {
   "cell_type": "code",
   "execution_count": 4,
   "metadata": {},
   "outputs": [],
   "source": [
    "#Train-Test-Evaluation Split\n",
    "x_train,x_temp,y_train,y_temp=train_test_split(x,y,stratify=y,random_state=35)\n",
    "x_test,x_eval,y_test,y_eval=train_test_split(x_temp,y_temp,stratify=y_temp,random_state=35)\n",
    "\n",
    "#Preprocessing of Train-Test Data\n",
    "x_train=pd.DataFrame(scaler.fit_transform(x_train),columns=x.columns)\n",
    "x_test=pd.DataFrame(scaler.transform(x_test),columns=x.columns)\n",
    "x_eval=pd.DataFrame(scaler.transform(x_eval),columns=x.columns)\n",
    "x_train,y_train=sampler.fit_resample(x_train,y_train)\n",
    "x_eval,y_eval=sampler.fit_resample(x_eval,y_eval)\n",
    "\n"
   ]
  },
  {
   "cell_type": "code",
   "execution_count": 5,
   "metadata": {},
   "outputs": [],
   "source": [
    "device = 'cuda' if torch.cuda.is_available() else 'cpu'\n",
    "# device = 'cpu'"
   ]
  },
  {
   "cell_type": "code",
   "execution_count": 6,
   "metadata": {},
   "outputs": [],
   "source": [
    "x_train_tensor=torch.tensor(x_train.values, dtype=torch.float32)\n",
    "y_train_tensor=torch.tensor(y_train.values, dtype=torch.float32).view(-1,1)\n",
    "\n",
    "x_test_tensor=torch.tensor(x_test.values, dtype=torch.float32)\n",
    "y_test_tensor=torch.tensor(y_test.values, dtype=torch.float32).view(-1,1)\n",
    "\n",
    "x_eval_tensor=torch.tensor(x_eval.values, dtype=torch.float32)\n",
    "y_eval_tensor=torch.tensor(y_eval.values, dtype=torch.float32).view(-1,1)"
   ]
  },
  {
   "cell_type": "code",
   "execution_count": 7,
   "metadata": {},
   "outputs": [],
   "source": [
    "batch_size = 1024\n",
    "train_dataset = TensorDataset(x_train_tensor,y_train_tensor)\n",
    "test_dataset = TensorDataset(x_test_tensor,y_test_tensor)\n",
    "eval_dataset = TensorDataset(x_eval_tensor,y_eval_tensor)\n",
    "\n",
    "\n",
    "train_loader = DataLoader(train_dataset, batch_size=batch_size, shuffle=True, pin_memory=True)\n",
    "test_loader = DataLoader(test_dataset, batch_size=batch_size, shuffle=True, pin_memory=True)\n",
    "eval_loader = DataLoader(eval_dataset, batch_size=batch_size, shuffle=True, pin_memory=True)"
   ]
  },
  {
   "cell_type": "code",
   "execution_count": 8,
   "metadata": {},
   "outputs": [],
   "source": [
    "class TrackClassifier(nn.Module):\n",
    "    def __init__(self):\n",
    "        super(TrackClassifier, self).__init__()\n",
    "        self.layers = nn.Sequential(\n",
    "            nn.Linear(10, 64),\n",
    "            nn.ReLU(),\n",
    "            nn.Dropout(0.3),\n",
    "            nn.Linear(64, 128),\n",
    "            nn.ReLU(),\n",
    "            nn.Dropout(0.3),\n",
    "            nn.Linear(128,256),\n",
    "            nn.ReLU(),\n",
    "            nn.Dropout(0.3),\n",
    "            nn.Linear(256, 128),\n",
    "            nn.ReLU(),\n",
    "            nn.Dropout(0.3),\n",
    "            nn.Linear(128, 64),\n",
    "            nn.ReLU(),\n",
    "            nn.Dropout(0.3),\n",
    "            nn.Linear(64,1),\n",
    "            nn.Sigmoid()\n",
    "        )\n",
    "        \n",
    "    def forward(self, x):\n",
    "        return self.layers(x)\n"
   ]
  },
  {
   "cell_type": "code",
   "execution_count": 9,
   "metadata": {},
   "outputs": [
    {
     "name": "stdout",
     "output_type": "stream",
     "text": [
      "Epoch [100/1000], Average Loss: 0.2362\n",
      "Epoch [200/1000], Average Loss: 0.2211\n",
      "Epoch [300/1000], Average Loss: 0.2168\n",
      "Epoch [400/1000], Average Loss: 0.2161\n",
      "Epoch [500/1000], Average Loss: 0.2082\n",
      "Epoch [600/1000], Average Loss: 0.207\n",
      "Epoch [700/1000], Average Loss: 0.2059\n",
      "Epoch [800/1000], Average Loss: 0.205\n",
      "Epoch [900/1000], Average Loss: 0.2015\n",
      "Epoch [1000/1000], Average Loss: 0.1989\n"
     ]
    }
   ],
   "source": [
    "model = TrackClassifier().to(device)\n",
    "criterion = nn.BCELoss()\n",
    "optimizer = torch.optim.Adam(model.parameters(), lr = 0.001)\n",
    "losses_ = []\n",
    "\n",
    "num_epochs = 1000\n",
    "log_interval = 100  # Log progress every 100 epochs\n",
    "\n",
    "epoch_losses = []\n",
    "for epoch in range(1, num_epochs + 1):\n",
    "    model.train()  # Ensure model is in training mode\n",
    "    epoch_loss = 0.0\n",
    "\n",
    "    # Iterate over batches\n",
    "    for batch_idx, (data, target) in enumerate(train_loader):\n",
    "        # Move data to the correct device (GPU/CPU)\n",
    "        data, target = data.to(device), target.to(device)\n",
    "        \n",
    "        optimizer.zero_grad()  # Zero the gradients\n",
    "\n",
    "        # Forward pass\n",
    "        outputs = model(data)\n",
    "\n",
    "        # Calculate loss\n",
    "        loss = criterion(outputs, target)\n",
    "        \n",
    "        # Backward pass and optimization\n",
    "        loss.backward()\n",
    "        optimizer.step()\n",
    "\n",
    "        epoch_loss += loss.item()\n",
    "\n",
    "    average_loss_for_epoch = np.round(epoch_loss/len(train_loader),4)\n",
    "    epoch_losses.append(average_loss_for_epoch)\n",
    "\n",
    "    if epoch%log_interval == 0:\n",
    "        print(f'Epoch [{epoch}/{num_epochs}], Average Loss: {average_loss_for_epoch}')\n"
   ]
  },
  {
   "cell_type": "code",
   "execution_count": 10,
   "metadata": {},
   "outputs": [
    {
     "name": "stdout",
     "output_type": "stream",
     "text": [
      "ROC-AUC Score :  0.8939695928803865\n"
     ]
    }
   ],
   "source": [
    "model.eval()  # Set model to evaluation mode\n",
    "with torch.no_grad():\n",
    "    predicted_values = []\n",
    "    true_values = []\n",
    "    for data, target in eval_loader:\n",
    "        data, target = data.to(device), target.to(device)\n",
    "        outputs = model(data)\n",
    "        predicted_values.append(outputs.round().cpu().numpy())\n",
    "        true_values.append(target.cpu().numpy())\n",
    "\n",
    "    # Convert the list of predictions and true values into arrays\n",
    "    predicted_values = np.concatenate(predicted_values)\n",
    "    true_values = np.concatenate(true_values)\n",
    "\n",
    "    # Evaluate the model\n",
    "    print(f'ROC-AUC Score : ', roc_auc_score(true_values, predicted_values))"
   ]
  },
  {
   "cell_type": "code",
   "execution_count": 11,
   "metadata": {},
   "outputs": [
    {
     "data": {
      "text/plain": [
       "<Axes: >"
      ]
     },
     "execution_count": 11,
     "metadata": {},
     "output_type": "execute_result"
    },
    {
     "data": {
      "image/png": "[encoded data removed]",
      "text/plain": [
       "<Figure size 640x480 with 2 Axes>"
      ]
     },
     "metadata": {},
     "output_type": "display_data"
    }
   ],
   "source": [
    "sns.heatmap(confusion_matrix(true_values,predicted_values,normalize='true')*100,annot=True,fmt='.2f',square=False,cmap='Blues')"
   ]
  },
  {
   "cell_type": "code",
   "execution_count": 12,
   "metadata": {},
   "outputs": [
    {
     "data": {
      "text/plain": [
       "[<matplotlib.lines.Line2D at 0x7f3a782a4980>]"
      ]
     },
     "execution_count": 12,
     "metadata": {},
     "output_type": "execute_result"
    },
    {
     "data": {
      "image/png": "[encoded data removed]",
      "text/plain": [
       "<Figure size 1200x600 with 1 Axes>"
      ]
     },
     "metadata": {},
     "output_type": "display_data"
    }
   ],
   "source": [
    "plt.figure(figsize=(12, 6))\n",
    "plt.xlabel('Iterations')\n",
    "plt.ylabel('Loss')\n",
    "plt.plot(epoch_losses,color='blue')"
   ]
  },
  {
   "cell_type": "code",
   "execution_count": 13,
   "metadata": {},
   "outputs": [],
   "source": [
    "# del model,x_train_tensor,x_test_tensor,x_eval_tensor,y_train_tensor,y_test_tensor,y_eval_tensor\n",
    "# torch.cuda.empty_cache()"
   ]
  },
  {
   "cell_type": "code",
   "execution_count": 15,
   "metadata": {},
   "outputs": [],
   "source": [
    "torch.save({\n",
    "    'epoch': epoch,\n",
    "    'model_state_dict': model.state_dict(),\n",
    "    'optimizer_state_dict': optimizer.state_dict(),\n",
    "    'loss': loss,\n",
    "}, \"checkpoint.pth\")"
   ]
  },
  {
   "cell_type": "code",
   "execution_count": null,
   "metadata": {},
   "outputs": [],
   "source": [
    "# checkpoint = torch.load(\"checkpoint.pth\")\n",
    "# model.load_state_dict(checkpoint['model_state_dict'])\n",
    "# optimizer.load_state_dict(checkpoint['optimizer_state_dict'])\n",
    "# epoch = checkpoint['epoch']\n",
    "# loss = checkpoint['loss']\n"
   ]
  },
  {
   "cell_type": "code",
   "execution_count": null,
   "metadata": {},
   "outputs": [],
   "source": []
  }
 ],
 "metadata": {
  "kernelspec": {
   "display_name": "box",
   "language": "python",
   "name": "python3"
  },
  "language_info": {
   "codemirror_mode": {
    "name": "ipython",
    "version": 3
   },
   "file_extension": ".py",
   "mimetype": "text/x-python",
   "name": "python",
   "nbconvert_exporter": "python",
   "pygments_lexer": "ipython3",
   "version": "3.12.7"
  }
 },
 "nbformat": 4,
 "nbformat_minor": 2
}
