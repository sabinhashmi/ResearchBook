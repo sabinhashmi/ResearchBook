{
 "cells": [
  {
   "cell_type": "code",
   "execution_count": 1,
   "metadata": {},
   "outputs": [],
   "source": [
    "import ROOT\n",
    "from EfficiencyPlots_Support import canvas_plot\n",
    "\n",
    "import os\n",
    "efficiency_plot_dir = '../../Figures/Postprocess/EfficiencyPlots'\n",
    "ghost_ratio_plot_dir = '../../Figures/Postprocess/GhostRatioPlots'\n",
    "os.makedirs(efficiency_plot_dir, exist_ok=True)\n",
    "os.makedirs(ghost_ratio_plot_dir, exist_ok=True)\n",
    "\n",
    "\n",
    "\n",
    "file_baseline = ROOT.TFile.Open('../../../Data/Baseline/MooreTuple.root')\n",
    "baseline = file_baseline.Get('Track').Get('Hlt2DebugTracking_DownstreamTrackChecker').Get('Downstream')\n",
    "# # baseline = file_baseline.Get('Track').Get('SeedTrackChecker_cbee405e').Get('Seed')\n",
    "\n",
    "\n",
    "file_upgrade = ROOT.TFile.Open('../../../Data/JSONModel/MooreTuple.root')\n",
    "upgrade = file_upgrade.Get('Track').Get('Hlt2DebugTracking_DownstreamTrackChecker').Get('Downstream')\n",
    "# upgrade = file_upgrade.Get('Track').Get('SeedTrackChecker_cbee405e').Get('Seed')"
   ]
  },
  {
   "cell_type": "code",
   "execution_count": 2,
   "metadata": {},
   "outputs": [
    {
     "name": "stderr",
     "output_type": "stream",
     "text": [
      "Info in <TCanvas::Print>: png file ../../Figures/Postprocess/EfficiencyPlots/Momentum.png has been created\n",
      "Info in <TCanvas::Print>: png file ../../Figures/Postprocess/EfficiencyPlots/TransverseMomentum.png has been created\n",
      "Info in <TCanvas::Print>: png file ../../Figures/Postprocess/EfficiencyPlots/Pseudorapidity.png has been created\n"
     ]
    }
   ],
   "source": [
    "canvas_plot(baseline=baseline,upgrade=upgrade,kinematics='P',title=\"Momentum\",save_path=efficiency_plot_dir,plot_type='Efficiency')\n",
    "\n",
    "canvas_plot(baseline=baseline,upgrade=upgrade,kinematics='Pt',title=\"TransverseMomentum\",save_path=efficiency_plot_dir,plot_type='Efficiency')\n",
    "\n",
    "canvas_plot(baseline=baseline,upgrade=upgrade,kinematics='Eta',title=\"Pseudorapidity\",save_path=efficiency_plot_dir,plot_type='Efficiency')\n"
   ]
  },
  {
   "cell_type": "code",
   "execution_count": 3,
   "metadata": {},
   "outputs": [
    {
     "name": "stderr",
     "output_type": "stream",
     "text": [
      "Info in <TCanvas::Print>: png file ../../Figures/Postprocess/GhostRatioPlots/Momentum.png has been created\n",
      "Info in <TCanvas::Print>: png file ../../Figures/Postprocess/GhostRatioPlots/TransverseMomentum.png has been created\n",
      "Info in <TCanvas::Print>: png file ../../Figures/Postprocess/GhostRatioPlots/Pseudorapidity.png has been created\n"
     ]
    }
   ],
   "source": [
    "canvas_plot(baseline=baseline,upgrade=upgrade,kinematics='P',title=\"Momentum\",save_path=ghost_ratio_plot_dir,plot_type='GhostRatio')\n",
    "\n",
    "canvas_plot(baseline=baseline,upgrade=upgrade,kinematics='Pt',title=\"TransverseMomentum\",save_path=ghost_ratio_plot_dir,plot_type='GhostRatio')\n",
    "\n",
    "canvas_plot(baseline=baseline,upgrade=upgrade,kinematics='Eta',title=\"Pseudorapidity\",save_path=ghost_ratio_plot_dir,plot_type='GhostRatio')\n"
   ]
  },
  {
   "cell_type": "code",
   "execution_count": null,
   "metadata": {},
   "outputs": [],
   "source": []
  }
 ],
 "metadata": {
  "kernelspec": {
   "display_name": "box",
   "language": "python",
   "name": "python3"
  },
  "language_info": {
   "codemirror_mode": {
    "name": "ipython",
    "version": 3
   },
   "file_extension": ".py",
   "mimetype": "text/x-python",
   "name": "python",
   "nbconvert_exporter": "python",
   "pygments_lexer": "ipython3",
   "version": "3.12.7"
  }
 },
 "nbformat": 4,
 "nbformat_minor": 2
}
