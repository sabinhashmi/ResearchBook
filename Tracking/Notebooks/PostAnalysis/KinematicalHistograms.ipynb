{
 "cells": [
  {
   "cell_type": "code",
   "execution_count": 1,
   "metadata": {},
   "outputs": [],
   "source": [
    "import uproot\n",
    "import pandas as pd\n",
    "import warnings\n",
    "from KinematicalHistogram_Support import *\n",
    "\n",
    "warnings.filterwarnings('ignore')\n",
    "features=['p','pt','px','py','pz','eta','phi','ovtx_x','ovtx_y','nUTHits','nFTHits','isMatched']\n",
    "\n",
    "import os\n",
    "four_graphs_directory = '../Figures/Postprocess/KinematicalPlots'\n",
    "os.makedirs(four_graphs_directory,exist_ok=True)\n"
   ]
  },
  {
   "cell_type": "code",
   "execution_count": 4,
   "metadata": {},
   "outputs": [],
   "source": [
    "baselineData=uproot.open('../../Data/Baseline/Dumper_recTracks.root:Hits_detectors'\n",
    "                         ).arrays(features,library='pd')\n",
    "finalRecoData=uproot.open('../../Data/ModelIntegrated/Dumper_recTracks.root:Hits_detectors'\n",
    "                          ).arrays(features,library='pd')\n",
    "\n",
    "\n",
    "baselineData['TotalHits']=baselineData['nUTHits']+baselineData['nFTHits']\n",
    "\n",
    "finalRecoData['TotalHits']=finalRecoData['nUTHits']+finalRecoData['nFTHits']\n",
    "\n",
    "baselineData['tx'] = baselineData['px']/baselineData['pz']\n",
    "baselineData['ty'] = baselineData['py']/baselineData['pz']\n",
    "\n",
    "finalRecoData['tx'] = finalRecoData['px']/finalRecoData['pz']\n",
    "finalRecoData['ty'] = finalRecoData['py']/finalRecoData['pz']\n",
    "\n",
    "baselineData = baselineData[['p', 'pt', 'tx', 'ty','eta', 'phi', 'ovtx_x', 'ovtx_y',\n",
    "       'nUTHits', 'nFTHits', 'TotalHits','isMatched']]\n",
    "finalRecoData = finalRecoData[['p', 'pt', 'tx', 'ty','eta', 'phi', 'ovtx_x', 'ovtx_y',\n",
    "       'nUTHits', 'nFTHits',  'TotalHits','isMatched',]]\n",
    "\n",
    "\n",
    "empty_df = pd.DataFrame(columns=baselineData.columns)"
   ]
  },
  {
   "cell_type": "code",
   "execution_count": 5,
   "metadata": {},
   "outputs": [],
   "source": [
    "def create_ComparePlots(baseline,final, plot_path,category_):\n",
    "    p = comparePlots(data_baseline=baseline,data_seed_track=final,title=\"Momentum\",variable_name='p',lower_limit=0,upper_limit=60e3,nDivision=6,bin_type=\"BinType1\",plot_path=plot_path,plot_category=category_)\n",
    "    pt = comparePlots(data_baseline=baseline,data_seed_track=final,title=\"Transverse_Momentum\",variable_name='pt',lower_limit=0,upper_limit=6e3,nDivision=8,bin_type=\"BinType1\",plot_path=plot_path,plot_category=category_)\n",
    "    tx =comparePlots(data_baseline=baseline,data_seed_track=final,title=\"Tx\",variable_name='tx',lower_limit=-1,upper_limit=1,nDivision=6,bin_type=\"BinType1\",plot_path=plot_path,plot_category=category_)\n",
    "    ty =comparePlots(data_baseline=baseline,data_seed_track=final,title=\"Ty\",variable_name='ty',lower_limit=-1,upper_limit=1,nDivision=6,bin_type=\"BinType1\",plot_path=plot_path,plot_category=category_)\n",
    "    eta =comparePlots(data_baseline=baseline,data_seed_track=final,title=\"Eta\",variable_name='eta',lower_limit=0,upper_limit=10,nDivision=6,bin_type=\"BinType1\",plot_path=plot_path,plot_category=category_)\n",
    "    phi = comparePlots(data_baseline=baseline,data_seed_track=final,title=\"Phi\",variable_name='phi',lower_limit=-6,upper_limit=6,nDivision=6,bin_type=\"BinType1\",plot_path=plot_path,plot_category=category_)\n",
    "    x = comparePlots(data_baseline=baseline,data_seed_track=final,title=\"Position_x\",variable_name='ovtx_x',lower_limit=-1500,upper_limit=1500,nDivision=10,bin_type=\"BinType1\",plot_path=plot_path,plot_category=category_)\n",
    "    y = comparePlots(data_baseline=baseline,data_seed_track=final,title=\"Position_y\",variable_name='ovtx_y',lower_limit=-1000,upper_limit=1000,nDivision=11,bin_type=\"BinType1\",plot_path=plot_path,plot_category=category_)\n",
    "\n",
    "    utHits = comparePlots(data_baseline=baseline,data_seed_track=final,title=\"UT_Hits\",variable_name='nUTHits',lower_limit=3,upper_limit=8,nDivision=5,bin_type=\"BinType2\",plot_path=plot_path,plot_category=category_)\n",
    "    ftHits = comparePlots(data_baseline=baseline,data_seed_track=final,title=\"SciFi_Hits\",variable_name='nFTHits',lower_limit=8.5,upper_limit=13.5,nDivision=5,bin_type=\"BinType2\",plot_path=plot_path,plot_category=category_)\n",
    "    totalHits = comparePlots(data_baseline=baseline,data_seed_track=final,title=\"Total_Hits\",variable_name='TotalHits',lower_limit=12,upper_limit=21,nDivision=5,bin_type=\"BinType2\",plot_path=plot_path,plot_category=category_)\n"
   ]
  },
  {
   "cell_type": "code",
   "execution_count": 6,
   "metadata": {},
   "outputs": [
    {
     "name": "stderr",
     "output_type": "stream",
     "text": [
      "Info in <TCanvas::Print>: png file ../Figures/Postprocess/KinematicalPlots/Momentum.png has been created\n",
      "Info in <TCanvas::Print>: png file ../Figures/Postprocess/KinematicalPlots/Transverse_Momentum.png has been created\n",
      "Info in <TCanvas::Print>: png file ../Figures/Postprocess/KinematicalPlots/Tx.png has been created\n",
      "Info in <TCanvas::Print>: png file ../Figures/Postprocess/KinematicalPlots/Ty.png has been created\n",
      "Info in <TCanvas::Print>: png file ../Figures/Postprocess/KinematicalPlots/Eta.png has been created\n",
      "Info in <TCanvas::Print>: png file ../Figures/Postprocess/KinematicalPlots/Phi.png has been created\n",
      "Info in <TCanvas::Print>: png file ../Figures/Postprocess/KinematicalPlots/Position_x.png has been created\n",
      "Info in <TCanvas::Print>: png file ../Figures/Postprocess/KinematicalPlots/Position_y.png has been created\n",
      "Info in <TCanvas::Print>: png file ../Figures/Postprocess/KinematicalPlots/UT_Hits.png has been created\n",
      "Info in <TCanvas::Print>: png file ../Figures/Postprocess/KinematicalPlots/SciFi_Hits.png has been created\n",
      "Info in <TCanvas::Print>: png file ../Figures/Postprocess/KinematicalPlots/Total_Hits.png has been created\n"
     ]
    }
   ],
   "source": [
    "# create_ComparePlots(baseline=baselineData,final=empty_df, plot_path=baseline_directory,category_='Baseline')\n",
    "create_ComparePlots(baseline=baselineData,final=finalRecoData, plot_path=four_graphs_directory,category_='Final')"
   ]
  },
  {
   "cell_type": "code",
   "execution_count": null,
   "metadata": {},
   "outputs": [],
   "source": []
  }
 ],
 "metadata": {
  "kernelspec": {
   "display_name": "box",
   "language": "python",
   "name": "python3"
  },
  "language_info": {
   "codemirror_mode": {
    "name": "ipython",
    "version": 3
   },
   "file_extension": ".py",
   "mimetype": "text/x-python",
   "name": "python",
   "nbconvert_exporter": "python",
   "pygments_lexer": "ipython3",
   "version": "3.12.7"
  }
 },
 "nbformat": 4,
 "nbformat_minor": 2
}
